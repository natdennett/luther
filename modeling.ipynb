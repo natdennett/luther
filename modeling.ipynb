{
 "cells": [
  {
   "cell_type": "code",
   "execution_count": 12,
   "metadata": {},
   "outputs": [],
   "source": [
    "import pandas as pd\n",
    "import numpy as np\n",
    "\n",
    "from sklearn.linear_model import LinearRegression\n",
    "from sklearn.model_selection import train_test_split\n",
    "import seaborn as sns\n",
    "import matplotlib.pyplot as plt\n",
    "%matplotlib inline\n",
    "\n",
    "from sklearn.preprocessing import StandardScaler, PolynomialFeatures\n",
    "from sklearn.linear_model import LinearRegression, Lasso, LassoCV, Ridge, RidgeCV\n",
    "from sklearn.metrics import r2_score\n",
    "\n",
    "import statsmodels.api as sm\n",
    "import statsmodels.formula.api as smf\n",
    "import patsy\n",
    "\n",
    "from work.rap_machine_genius_code import read_pickle, write_pickle, Song"
   ]
  },
  {
   "cell_type": "code",
   "execution_count": 13,
   "metadata": {},
   "outputs": [],
   "source": [
    "df = read_pickle('data/song_df.pkl')"
   ]
  },
  {
   "cell_type": "markdown",
   "metadata": {},
   "source": [
    "There are 30 songs in the top 1000 rap songs that are tagged with 'broadway'--these are all Hamilton songs, most likely!"
   ]
  },
  {
   "cell_type": "code",
   "execution_count": 14,
   "metadata": {},
   "outputs": [
    {
     "data": {
      "text/plain": [
       "30"
      ]
     },
     "execution_count": 14,
     "metadata": {},
     "output_type": "execute_result"
    }
   ],
   "source": [
    "len(df[df['broadway'] == 1])"
   ]
  },
  {
   "cell_type": "code",
   "execution_count": 15,
   "metadata": {
    "scrolled": true
   },
   "outputs": [
    {
     "data": {
      "image/png": "[encoded data removed]",
      "text/plain": [
       "<Figure size 432x288 with 1 Axes>"
      ]
     },
     "metadata": {
      "needs_background": "light"
     },
     "output_type": "display_data"
    }
   ],
   "source": [
    "sns_plot = sns.distplot(df['views'])\n",
    "fig = sns_plot.get_figure()\n",
    "fig.savefig('img/hist.svg')"
   ]
  },
  {
   "cell_type": "markdown",
   "metadata": {},
   "source": [
    "Only 83 songs in the top 1000 register a zero on my \"curse\" feature."
   ]
  },
  {
   "cell_type": "code",
   "execution_count": 16,
   "metadata": {},
   "outputs": [
    {
     "data": {
      "text/plain": [
       "83"
      ]
     },
     "execution_count": 16,
     "metadata": {},
     "output_type": "execute_result"
    }
   ],
   "source": [
    "curse_mask = df['curse'] == 0\n",
    "len(df[curse_mask])"
   ]
  },
  {
   "cell_type": "code",
   "execution_count": 17,
   "metadata": {},
   "outputs": [
    {
     "data": {
      "text/html": [
       "<table class=\"simpletable\">\n",
       "<caption>OLS Regression Results</caption>\n",
       "<tr>\n",
       "  <th>Dep. Variable:</th>          <td>views</td>      <th>  R-squared:         </th> <td>   0.403</td> \n",
       "</tr>\n",
       "<tr>\n",
       "  <th>Model:</th>                   <td>OLS</td>       <th>  Adj. R-squared:    </th> <td>   0.399</td> \n",
       "</tr>\n",
       "<tr>\n",
       "  <th>Method:</th>             <td>Least Squares</td>  <th>  F-statistic:       </th> <td>   108.8</td> \n",
       "</tr>\n",
       "<tr>\n",
       "  <th>Date:</th>             <td>Thu, 11 Jul 2019</td> <th>  Prob (F-statistic):</th> <td>9.26e-105</td>\n",
       "</tr>\n",
       "<tr>\n",
       "  <th>Time:</th>                 <td>11:24:51</td>     <th>  Log-Likelihood:    </th> <td> -14792.</td> \n",
       "</tr>\n",
       "<tr>\n",
       "  <th>No. Observations:</th>      <td>   974</td>      <th>  AIC:               </th> <td>2.960e+04</td>\n",
       "</tr>\n",
       "<tr>\n",
       "  <th>Df Residuals:</th>          <td>   967</td>      <th>  BIC:               </th> <td>2.963e+04</td>\n",
       "</tr>\n",
       "<tr>\n",
       "  <th>Df Model:</th>              <td>     6</td>      <th>                     </th>     <td> </td>    \n",
       "</tr>\n",
       "<tr>\n",
       "  <th>Covariance Type:</th>      <td>nonrobust</td>    <th>                     </th>     <td> </td>    \n",
       "</tr>\n",
       "</table>\n",
       "<table class=\"simpletable\">\n",
       "<tr>\n",
       "      <td></td>         <th>coef</th>     <th>std err</th>      <th>t</th>      <th>P>|t|</th>  <th>[0.025</th>    <th>0.975]</th>  \n",
       "</tr>\n",
       "<tr>\n",
       "  <th>Intercept</th> <td> 3.104e+05</td> <td> 6.84e+04</td> <td>    4.541</td> <td> 0.000</td> <td> 1.76e+05</td> <td> 4.45e+05</td>\n",
       "</tr>\n",
       "<tr>\n",
       "  <th>cars</th>      <td>  3.25e+07</td> <td> 1.73e+07</td> <td>    1.883</td> <td> 0.060</td> <td>-1.37e+06</td> <td> 6.64e+07</td>\n",
       "</tr>\n",
       "<tr>\n",
       "  <th>clothes</th>   <td>  3.89e+06</td> <td> 4.23e+06</td> <td>    0.919</td> <td> 0.358</td> <td>-4.41e+06</td> <td> 1.22e+07</td>\n",
       "</tr>\n",
       "<tr>\n",
       "  <th>religion</th>  <td>-5.769e+06</td> <td> 4.84e+06</td> <td>   -1.191</td> <td> 0.234</td> <td>-1.53e+07</td> <td> 3.73e+06</td>\n",
       "</tr>\n",
       "<tr>\n",
       "  <th>curse</th>     <td> 2.828e+05</td> <td> 1.42e+06</td> <td>    0.200</td> <td> 0.842</td> <td> -2.5e+06</td> <td> 3.06e+06</td>\n",
       "</tr>\n",
       "<tr>\n",
       "  <th>verified</th>  <td> 1.336e+05</td> <td> 6.46e+04</td> <td>    2.068</td> <td> 0.039</td> <td> 6805.051</td> <td>  2.6e+05</td>\n",
       "</tr>\n",
       "<tr>\n",
       "  <th>contrib</th>   <td> 6527.1805</td> <td>  262.754</td> <td>   24.841</td> <td> 0.000</td> <td> 6011.547</td> <td> 7042.814</td>\n",
       "</tr>\n",
       "</table>\n",
       "<table class=\"simpletable\">\n",
       "<tr>\n",
       "  <th>Omnibus:</th>       <td>330.087</td> <th>  Durbin-Watson:     </th> <td>   0.778</td> \n",
       "</tr>\n",
       "<tr>\n",
       "  <th>Prob(Omnibus):</th> <td> 0.000</td>  <th>  Jarque-Bera (JB):  </th> <td>1410.129</td> \n",
       "</tr>\n",
       "<tr>\n",
       "  <th>Skew:</th>          <td> 1.543</td>  <th>  Prob(JB):          </th> <td>6.23e-307</td>\n",
       "</tr>\n",
       "<tr>\n",
       "  <th>Kurtosis:</th>      <td> 8.022</td>  <th>  Cond. No.          </th> <td>1.25e+05</td> \n",
       "</tr>\n",
       "</table><br/><br/>Warnings:<br/>[1] Standard Errors assume that the covariance matrix of the errors is correctly specified.<br/>[2] The condition number is large, 1.25e+05. This might indicate that there are<br/>strong multicollinearity or other numerical problems."
      ],
      "text/plain": [
       "<class 'statsmodels.iolib.summary.Summary'>\n",
       "\"\"\"\n",
       "                            OLS Regression Results                            \n",
       "==============================================================================\n",
       "Dep. Variable:                  views   R-squared:                       0.403\n",
       "Model:                            OLS   Adj. R-squared:                  0.399\n",
       "Method:                 Least Squares   F-statistic:                     108.8\n",
       "Date:                Thu, 11 Jul 2019   Prob (F-statistic):          9.26e-105\n",
       "Time:                        11:24:51   Log-Likelihood:                -14792.\n",
       "No. Observations:                 974   AIC:                         2.960e+04\n",
       "Df Residuals:                     967   BIC:                         2.963e+04\n",
       "Df Model:                           6                                         \n",
       "Covariance Type:            nonrobust                                         \n",
       "==============================================================================\n",
       "                 coef    std err          t      P>|t|      [0.025      0.975]\n",
       "------------------------------------------------------------------------------\n",
       "Intercept   3.104e+05   6.84e+04      4.541      0.000    1.76e+05    4.45e+05\n",
       "cars         3.25e+07   1.73e+07      1.883      0.060   -1.37e+06    6.64e+07\n",
       "clothes      3.89e+06   4.23e+06      0.919      0.358   -4.41e+06    1.22e+07\n",
       "religion   -5.769e+06   4.84e+06     -1.191      0.234   -1.53e+07    3.73e+06\n",
       "curse       2.828e+05   1.42e+06      0.200      0.842    -2.5e+06    3.06e+06\n",
       "verified    1.336e+05   6.46e+04      2.068      0.039    6805.051     2.6e+05\n",
       "contrib     6527.1805    262.754     24.841      0.000    6011.547    7042.814\n",
       "==============================================================================\n",
       "Omnibus:                      330.087   Durbin-Watson:                   0.778\n",
       "Prob(Omnibus):                  0.000   Jarque-Bera (JB):             1410.129\n",
       "Skew:                           1.543   Prob(JB):                    6.23e-307\n",
       "Kurtosis:                       8.022   Cond. No.                     1.25e+05\n",
       "==============================================================================\n",
       "\n",
       "Warnings:\n",
       "[1] Standard Errors assume that the covariance matrix of the errors is correctly specified.\n",
       "[2] The condition number is large, 1.25e+05. This might indicate that there are\n",
       "strong multicollinearity or other numerical problems.\n",
       "\"\"\""
      ]
     },
     "execution_count": 17,
     "metadata": {},
     "output_type": "execute_result"
    }
   ],
   "source": [
    "lim_df = df.copy()\n",
    "\n",
    "# Define the model\n",
    "lm1 = smf.ols('views ~ cars + clothes + religion + curse + verified + contrib', data=lim_df)\n",
    "\n",
    "# Fit the model\n",
    "fit1 = lm1.fit()\n",
    "\n",
    "# Print summary statistics of the model's performance\n",
    "fit1.summary()"
   ]
  },
  {
   "cell_type": "code",
   "execution_count": 18,
   "metadata": {
    "scrolled": true
   },
   "outputs": [
    {
     "data": {
      "text/plain": [
       "RidgeCV(alphas=array([ 0.1,  1. , 10. ]), cv=None, fit_intercept=True,\n",
       "    gcv_mode=None, normalize=False, scoring=None, store_cv_values=False)"
      ]
     },
     "execution_count": 18,
     "metadata": {},
     "output_type": "execute_result"
    }
   ],
   "source": [
    "X = df[['contrib', 'verified', 'cars', 'clothes', 'curse', 'religion']]\n",
    "y = df['views']\n",
    "std = StandardScaler()\n",
    "std.fit(X.values)\n",
    "X_tr = std.transform(X.values)\n",
    "\n",
    "ridge_model = RidgeCV()\n",
    "ridge_model.fit(X_tr, y)"
   ]
  },
  {
   "cell_type": "code",
   "execution_count": 19,
   "metadata": {},
   "outputs": [
    {
     "data": {
      "image/png": "[encoded data removed]",
      "text/plain": [
       "<Figure size 640x480 with 1 Axes>"
      ]
     },
     "metadata": {},
     "output_type": "display_data"
    }
   ],
   "source": [
    "scores = sorted(list(zip(X.columns, ridge_model.coef_)), key = lambda x: x[1])\n",
    "plt.rcdefaults()\n",
    "fig, ax = plt.subplots()\n",
    "\n",
    "# Example data\n",
    "features, performance = zip(*scores)\n",
    "y_pos = np.arange(len(features))\n",
    "\n",
    "ax.barh(y_pos, performance, align='center',\n",
    "        color='green')\n",
    "ax.set_yticks(y_pos)\n",
    "ax.set_yticklabels(features)\n",
    "ax.invert_yaxis()  # labels read top-to-bottom\n",
    "ax.set_xlabel('Regularized coefficient')\n",
    "ax.set_title('Is this feature tied to more or fewer views?')\n",
    "\n",
    "plt.show()\n",
    "fig.savefig('img/features.svg')"
   ]
  },
  {
   "cell_type": "code",
   "execution_count": 215,
   "metadata": {},
   "outputs": [
    {
     "data": {
      "text/plain": [
       "RidgeCV(alphas=array([ 0.1,  1. , 10. ]), cv=None, fit_intercept=True,\n",
       "    gcv_mode=None, normalize=False, scoring=None, store_cv_values=False)"
      ]
     },
     "execution_count": 215,
     "metadata": {},
     "output_type": "execute_result"
    }
   ],
   "source": [
    "X = df[['cars', 'clothes', 'curse', 'religion']]\n",
    "y = df['views']\n",
    "\n",
    "std = StandardScaler()\n",
    "std.fit(X.values)\n",
    "X_tr = std.transform(X.values)\n",
    "\n",
    "ridge_model = RidgeCV()\n",
    "ridge_model.fit(X_tr, y)"
   ]
  },
  {
   "cell_type": "code",
   "execution_count": 216,
   "metadata": {},
   "outputs": [
    {
     "data": {
      "image/png": "[encoded data removed]",
      "text/plain": [
       "<Figure size 640x480 with 1 Axes>"
      ]
     },
     "metadata": {},
     "output_type": "display_data"
    }
   ],
   "source": [
    "scores = sorted(list(zip(X.columns, ridge_model.coef_)), key = lambda x: x[1])\n",
    "plt.rcdefaults()\n",
    "fig, ax = plt.subplots()\n",
    "\n",
    "# Example data\n",
    "features, performance = zip(*scores)\n",
    "y_pos = np.arange(len(features))\n",
    "\n",
    "ax.barh(y_pos, performance, align='center',\n",
    "        color='green')\n",
    "ax.set_yticks(y_pos)\n",
    "ax.set_yticklabels(features)\n",
    "ax.invert_yaxis()  # labels read top-to-bottom\n",
    "ax.set_xlabel('Regularized coefficient')\n",
    "ax.set_title('Is this topic tied to more or fewer views?')\n",
    "\n",
    "plt.show()\n",
    "fig.savefig('topics.svg')"
   ]
  },
  {
   "cell_type": "code",
   "execution_count": 217,
   "metadata": {},
   "outputs": [
    {
     "data": {
      "text/html": [
       "<table class=\"simpletable\">\n",
       "<caption>OLS Regression Results</caption>\n",
       "<tr>\n",
       "  <th>Dep. Variable:</th>          <td>views</td>      <th>  R-squared:         </th> <td>   0.004</td> \n",
       "</tr>\n",
       "<tr>\n",
       "  <th>Model:</th>                   <td>OLS</td>       <th>  Adj. R-squared:    </th> <td>   0.000</td> \n",
       "</tr>\n",
       "<tr>\n",
       "  <th>Method:</th>             <td>Least Squares</td>  <th>  F-statistic:       </th> <td>   1.071</td> \n",
       "</tr>\n",
       "<tr>\n",
       "  <th>Date:</th>             <td>Tue, 09 Jul 2019</td> <th>  Prob (F-statistic):</th>  <td> 0.370</td>  \n",
       "</tr>\n",
       "<tr>\n",
       "  <th>Time:</th>                 <td>16:25:14</td>     <th>  Log-Likelihood:    </th> <td> -15041.</td> \n",
       "</tr>\n",
       "<tr>\n",
       "  <th>No. Observations:</th>      <td>   974</td>      <th>  AIC:               </th> <td>3.009e+04</td>\n",
       "</tr>\n",
       "<tr>\n",
       "  <th>Df Residuals:</th>          <td>   969</td>      <th>  BIC:               </th> <td>3.012e+04</td>\n",
       "</tr>\n",
       "<tr>\n",
       "  <th>Df Model:</th>              <td>     4</td>      <th>                     </th>     <td> </td>    \n",
       "</tr>\n",
       "<tr>\n",
       "  <th>Covariance Type:</th>      <td>nonrobust</td>    <th>                     </th>     <td> </td>    \n",
       "</tr>\n",
       "</table>\n",
       "<table class=\"simpletable\">\n",
       "<tr>\n",
       "      <td></td>         <th>coef</th>     <th>std err</th>      <th>t</th>      <th>P>|t|</th>  <th>[0.025</th>    <th>0.975]</th>  \n",
       "</tr>\n",
       "<tr>\n",
       "  <th>Intercept</th> <td> 1.525e+06</td> <td> 6.08e+04</td> <td>   25.070</td> <td> 0.000</td> <td> 1.41e+06</td> <td> 1.64e+06</td>\n",
       "</tr>\n",
       "<tr>\n",
       "  <th>cars</th>      <td> 2.975e+07</td> <td> 2.22e+07</td> <td>    1.339</td> <td> 0.181</td> <td>-1.39e+07</td> <td> 7.34e+07</td>\n",
       "</tr>\n",
       "<tr>\n",
       "  <th>clothes</th>   <td> 5.725e+06</td> <td> 5.46e+06</td> <td>    1.049</td> <td> 0.294</td> <td>-4.98e+06</td> <td> 1.64e+07</td>\n",
       "</tr>\n",
       "<tr>\n",
       "  <th>curse</th>     <td> 9.887e+05</td> <td> 1.83e+06</td> <td>    0.541</td> <td> 0.589</td> <td> -2.6e+06</td> <td> 4.57e+06</td>\n",
       "</tr>\n",
       "<tr>\n",
       "  <th>religion</th>  <td> 6.077e+06</td> <td> 6.22e+06</td> <td>    0.977</td> <td> 0.329</td> <td>-6.13e+06</td> <td> 1.83e+07</td>\n",
       "</tr>\n",
       "</table>\n",
       "<table class=\"simpletable\">\n",
       "<tr>\n",
       "  <th>Omnibus:</th>       <td>740.903</td> <th>  Durbin-Watson:     </th> <td>   0.025</td> \n",
       "</tr>\n",
       "<tr>\n",
       "  <th>Prob(Omnibus):</th> <td> 0.000</td>  <th>  Jarque-Bera (JB):  </th> <td>14608.022</td>\n",
       "</tr>\n",
       "<tr>\n",
       "  <th>Skew:</th>          <td> 3.345</td>  <th>  Prob(JB):          </th> <td>    0.00</td> \n",
       "</tr>\n",
       "<tr>\n",
       "  <th>Kurtosis:</th>      <td>20.754</td>  <th>  Cond. No.          </th> <td>    562.</td> \n",
       "</tr>\n",
       "</table><br/><br/>Warnings:<br/>[1] Standard Errors assume that the covariance matrix of the errors is correctly specified."
      ],
      "text/plain": [
       "<class 'statsmodels.iolib.summary.Summary'>\n",
       "\"\"\"\n",
       "                            OLS Regression Results                            \n",
       "==============================================================================\n",
       "Dep. Variable:                  views   R-squared:                       0.004\n",
       "Model:                            OLS   Adj. R-squared:                  0.000\n",
       "Method:                 Least Squares   F-statistic:                     1.071\n",
       "Date:                Tue, 09 Jul 2019   Prob (F-statistic):              0.370\n",
       "Time:                        16:25:14   Log-Likelihood:                -15041.\n",
       "No. Observations:                 974   AIC:                         3.009e+04\n",
       "Df Residuals:                     969   BIC:                         3.012e+04\n",
       "Df Model:                           4                                         \n",
       "Covariance Type:            nonrobust                                         \n",
       "==============================================================================\n",
       "                 coef    std err          t      P>|t|      [0.025      0.975]\n",
       "------------------------------------------------------------------------------\n",
       "Intercept   1.525e+06   6.08e+04     25.070      0.000    1.41e+06    1.64e+06\n",
       "cars        2.975e+07   2.22e+07      1.339      0.181   -1.39e+07    7.34e+07\n",
       "clothes     5.725e+06   5.46e+06      1.049      0.294   -4.98e+06    1.64e+07\n",
       "curse       9.887e+05   1.83e+06      0.541      0.589    -2.6e+06    4.57e+06\n",
       "religion    6.077e+06   6.22e+06      0.977      0.329   -6.13e+06    1.83e+07\n",
       "==============================================================================\n",
       "Omnibus:                      740.903   Durbin-Watson:                   0.025\n",
       "Prob(Omnibus):                  0.000   Jarque-Bera (JB):            14608.022\n",
       "Skew:                           3.345   Prob(JB):                         0.00\n",
       "Kurtosis:                      20.754   Cond. No.                         562.\n",
       "==============================================================================\n",
       "\n",
       "Warnings:\n",
       "[1] Standard Errors assume that the covariance matrix of the errors is correctly specified.\n",
       "\"\"\""
      ]
     },
     "execution_count": 217,
     "metadata": {},
     "output_type": "execute_result"
    }
   ],
   "source": [
    "lim_df = df.copy()\n",
    "\n",
    "X = lim_df[['cars', 'clothes', 'curse', 'religion']]\n",
    "y = lim_df['views']\n",
    "\n",
    "# Define the model\n",
    "lm2 = smf.ols('views ~ cars + clothes + curse + religion', data=lim_df)\n",
    "\n",
    "# Fit the model\n",
    "fit2 = lm2.fit()\n",
    "\n",
    "# Print summary statistics of the model's performance\n",
    "fit2.summary()"
   ]
  },
  {
   "cell_type": "code",
   "execution_count": 218,
   "metadata": {},
   "outputs": [
    {
     "data": {
      "text/plain": [
       "RidgeCV(alphas=array([ 0.1,  1. , 10. ]), cv=None, fit_intercept=True,\n",
       "    gcv_mode=None, normalize=False, scoring=None, store_cv_values=False)"
      ]
     },
     "execution_count": 218,
     "metadata": {},
     "output_type": "execute_result"
    }
   ],
   "source": [
    "X = df[['gucci', 'fendi', 'prada', 'vuitton', 'dior', 'chanel',\n",
    "        'balenciaga', 'louboutin', 'givenchy', 'versace']]\n",
    "y = df['views']\n",
    "\n",
    "selected_columns = ['gucci', 'fendi', 'prada', 'vuitton', 'dior',\n",
    "                    'chanel', 'balenciaga', 'louboutin', 'givenchy', 'versace']\n",
    "\n",
    "# X_train_val, X_test, y_train_val, y_test = train_test_split(\n",
    "#     X, y, test_size=0.2, random_state=42)\n",
    "# X_train, X_val, y_train, y_val = train_test_split(\n",
    "#     X_train_val, y_train_val, test_size=.25, random_state=43)\n",
    "std = StandardScaler()\n",
    "std.fit(X.values)\n",
    "\n",
    "X_tr = std.transform(X.values)\n",
    "\n",
    "ridge_model = RidgeCV()\n",
    "ridge_model.fit(X_tr, y)"
   ]
  },
  {
   "cell_type": "code",
   "execution_count": 219,
   "metadata": {},
   "outputs": [
    {
     "data": {
      "image/png": "[encoded data removed]",
      "text/plain": [
       "<Figure size 640x480 with 1 Axes>"
      ]
     },
     "metadata": {},
     "output_type": "display_data"
    }
   ],
   "source": [
    "scores = sorted(list(zip(X.columns, ridge_model.coef_)), key = lambda x: x[1])\n",
    "plt.rcdefaults()\n",
    "fig, ax = plt.subplots()\n",
    "\n",
    "# Example data\n",
    "brands, performance = zip(*scores)\n",
    "y_pos = np.arange(len(brands))\n",
    "\n",
    "ax.barh(y_pos, performance, align='center',\n",
    "        color='green')\n",
    "ax.set_yticks(y_pos)\n",
    "ax.set_yticklabels(brands)\n",
    "ax.invert_yaxis()  # labels read top-to-bottom\n",
    "ax.set_xlabel('Regularized coefficient')\n",
    "ax.set_title('Does name-dropping this brand help or hurt your song?')\n",
    "\n",
    "plt.show()\n",
    "fig.savefig('clothes_brands.svg')"
   ]
  },
  {
   "cell_type": "code",
   "execution_count": 220,
   "metadata": {
    "scrolled": true
   },
   "outputs": [
    {
     "data": {
      "text/html": [
       "<table class=\"simpletable\">\n",
       "<caption>OLS Regression Results</caption>\n",
       "<tr>\n",
       "  <th>Dep. Variable:</th>          <td>views</td>      <th>  R-squared:         </th> <td>   0.007</td> \n",
       "</tr>\n",
       "<tr>\n",
       "  <th>Model:</th>                   <td>OLS</td>       <th>  Adj. R-squared:    </th> <td>  -0.004</td> \n",
       "</tr>\n",
       "<tr>\n",
       "  <th>Method:</th>             <td>Least Squares</td>  <th>  F-statistic:       </th> <td>  0.6519</td> \n",
       "</tr>\n",
       "<tr>\n",
       "  <th>Date:</th>             <td>Tue, 09 Jul 2019</td> <th>  Prob (F-statistic):</th>  <td> 0.770</td>  \n",
       "</tr>\n",
       "<tr>\n",
       "  <th>Time:</th>                 <td>16:25:16</td>     <th>  Log-Likelihood:    </th> <td> -15040.</td> \n",
       "</tr>\n",
       "<tr>\n",
       "  <th>No. Observations:</th>      <td>   974</td>      <th>  AIC:               </th> <td>3.010e+04</td>\n",
       "</tr>\n",
       "<tr>\n",
       "  <th>Df Residuals:</th>          <td>   963</td>      <th>  BIC:               </th> <td>3.016e+04</td>\n",
       "</tr>\n",
       "<tr>\n",
       "  <th>Df Model:</th>              <td>    10</td>      <th>                     </th>     <td> </td>    \n",
       "</tr>\n",
       "<tr>\n",
       "  <th>Covariance Type:</th>      <td>nonrobust</td>    <th>                     </th>     <td> </td>    \n",
       "</tr>\n",
       "</table>\n",
       "<table class=\"simpletable\">\n",
       "<tr>\n",
       "       <td></td>         <th>coef</th>     <th>std err</th>      <th>t</th>      <th>P>|t|</th>  <th>[0.025</th>    <th>0.975]</th>  \n",
       "</tr>\n",
       "<tr>\n",
       "  <th>Intercept</th>  <td> 1.584e+06</td> <td> 3.96e+04</td> <td>   39.950</td> <td> 0.000</td> <td> 1.51e+06</td> <td> 1.66e+06</td>\n",
       "</tr>\n",
       "<tr>\n",
       "  <th>gucci</th>      <td> 8.038e+04</td> <td> 4.13e+04</td> <td>    1.944</td> <td> 0.052</td> <td> -761.355</td> <td> 1.62e+05</td>\n",
       "</tr>\n",
       "<tr>\n",
       "  <th>fendi</th>      <td> -4.94e+04</td> <td>  9.6e+04</td> <td>   -0.515</td> <td> 0.607</td> <td>-2.38e+05</td> <td> 1.39e+05</td>\n",
       "</tr>\n",
       "<tr>\n",
       "  <th>prada</th>      <td> 4740.1596</td> <td> 9.61e+04</td> <td>    0.049</td> <td> 0.961</td> <td>-1.84e+05</td> <td> 1.93e+05</td>\n",
       "</tr>\n",
       "<tr>\n",
       "  <th>vuitton</th>    <td>-9391.4218</td> <td> 8.49e+04</td> <td>   -0.111</td> <td> 0.912</td> <td>-1.76e+05</td> <td> 1.57e+05</td>\n",
       "</tr>\n",
       "<tr>\n",
       "  <th>dior</th>       <td>-3.622e+04</td> <td> 3.98e+04</td> <td>   -0.909</td> <td> 0.363</td> <td>-1.14e+05</td> <td> 4.19e+04</td>\n",
       "</tr>\n",
       "<tr>\n",
       "  <th>chanel</th>     <td>-1.286e+04</td> <td> 4.27e+04</td> <td>   -0.301</td> <td> 0.764</td> <td>-9.67e+04</td> <td>  7.1e+04</td>\n",
       "</tr>\n",
       "<tr>\n",
       "  <th>balenciaga</th> <td> 1.341e+04</td> <td> 3.99e+04</td> <td>    0.336</td> <td> 0.737</td> <td>-6.48e+04</td> <td> 9.17e+04</td>\n",
       "</tr>\n",
       "<tr>\n",
       "  <th>louboutin</th>  <td> -1.56e+04</td> <td> 3.97e+04</td> <td>   -0.394</td> <td> 0.694</td> <td>-9.34e+04</td> <td> 6.22e+04</td>\n",
       "</tr>\n",
       "<tr>\n",
       "  <th>givenchy</th>   <td>-5595.0757</td> <td> 3.97e+04</td> <td>   -0.141</td> <td> 0.888</td> <td>-8.35e+04</td> <td> 7.23e+04</td>\n",
       "</tr>\n",
       "<tr>\n",
       "  <th>versace</th>    <td> 3.845e+04</td> <td> 3.97e+04</td> <td>    0.968</td> <td> 0.333</td> <td>-3.95e+04</td> <td> 1.16e+05</td>\n",
       "</tr>\n",
       "</table>\n",
       "<table class=\"simpletable\">\n",
       "<tr>\n",
       "  <th>Omnibus:</th>       <td>745.512</td> <th>  Durbin-Watson:     </th> <td>   0.030</td> \n",
       "</tr>\n",
       "<tr>\n",
       "  <th>Prob(Omnibus):</th> <td> 0.000</td>  <th>  Jarque-Bera (JB):  </th> <td>14875.366</td>\n",
       "</tr>\n",
       "<tr>\n",
       "  <th>Skew:</th>          <td> 3.371</td>  <th>  Prob(JB):          </th> <td>    0.00</td> \n",
       "</tr>\n",
       "<tr>\n",
       "  <th>Kurtosis:</th>      <td>20.919</td>  <th>  Cond. No.          </th> <td>    5.17</td> \n",
       "</tr>\n",
       "</table><br/><br/>Warnings:<br/>[1] Standard Errors assume that the covariance matrix of the errors is correctly specified."
      ],
      "text/plain": [
       "<class 'statsmodels.iolib.summary.Summary'>\n",
       "\"\"\"\n",
       "                            OLS Regression Results                            \n",
       "==============================================================================\n",
       "Dep. Variable:                  views   R-squared:                       0.007\n",
       "Model:                            OLS   Adj. R-squared:                 -0.004\n",
       "Method:                 Least Squares   F-statistic:                    0.6519\n",
       "Date:                Tue, 09 Jul 2019   Prob (F-statistic):              0.770\n",
       "Time:                        16:25:16   Log-Likelihood:                -15040.\n",
       "No. Observations:                 974   AIC:                         3.010e+04\n",
       "Df Residuals:                     963   BIC:                         3.016e+04\n",
       "Df Model:                          10                                         \n",
       "Covariance Type:            nonrobust                                         \n",
       "==============================================================================\n",
       "                 coef    std err          t      P>|t|      [0.025      0.975]\n",
       "------------------------------------------------------------------------------\n",
       "Intercept   1.584e+06   3.96e+04     39.950      0.000    1.51e+06    1.66e+06\n",
       "gucci       8.038e+04   4.13e+04      1.944      0.052    -761.355    1.62e+05\n",
       "fendi       -4.94e+04    9.6e+04     -0.515      0.607   -2.38e+05    1.39e+05\n",
       "prada       4740.1596   9.61e+04      0.049      0.961   -1.84e+05    1.93e+05\n",
       "vuitton    -9391.4218   8.49e+04     -0.111      0.912   -1.76e+05    1.57e+05\n",
       "dior       -3.622e+04   3.98e+04     -0.909      0.363   -1.14e+05    4.19e+04\n",
       "chanel     -1.286e+04   4.27e+04     -0.301      0.764   -9.67e+04     7.1e+04\n",
       "balenciaga  1.341e+04   3.99e+04      0.336      0.737   -6.48e+04    9.17e+04\n",
       "louboutin   -1.56e+04   3.97e+04     -0.394      0.694   -9.34e+04    6.22e+04\n",
       "givenchy   -5595.0757   3.97e+04     -0.141      0.888   -8.35e+04    7.23e+04\n",
       "versace     3.845e+04   3.97e+04      0.968      0.333   -3.95e+04    1.16e+05\n",
       "==============================================================================\n",
       "Omnibus:                      745.512   Durbin-Watson:                   0.030\n",
       "Prob(Omnibus):                  0.000   Jarque-Bera (JB):            14875.366\n",
       "Skew:                           3.371   Prob(JB):                         0.00\n",
       "Kurtosis:                      20.919   Cond. No.                         5.17\n",
       "==============================================================================\n",
       "\n",
       "Warnings:\n",
       "[1] Standard Errors assume that the covariance matrix of the errors is correctly specified.\n",
       "\"\"\""
      ]
     },
     "execution_count": 220,
     "metadata": {},
     "output_type": "execute_result"
    }
   ],
   "source": [
    "lim_df = pd.DataFrame(X_tr, columns = ['gucci', 'fendi', 'prada', 'vuitton', 'dior', 'chanel',\n",
    "        'balenciaga', 'louboutin', 'givenchy', 'versace'])\n",
    "lim_df['views'] = y.reset_index(drop = True)\n",
    "\n",
    "# Define the model\n",
    "lm3 = smf.ols(\n",
    "    'views ~ gucci + fendi + prada + vuitton + dior + chanel + balenciaga + louboutin + givenchy + versace', data=lim_df)\n",
    "\n",
    "# Fit the model\n",
    "fit3 = lm3.fit()\n",
    "\n",
    "# Print summary statistics of the model's performance\n",
    "fit3.summary()"
   ]
  },
  {
   "cell_type": "markdown",
   "metadata": {},
   "source": [
    "No scaling because tags are binary, either the tag is present or not."
   ]
  },
  {
   "cell_type": "code",
   "execution_count": 221,
   "metadata": {},
   "outputs": [
    {
     "data": {
      "text/plain": [
       "RidgeCV(alphas=array([ 0.1,  1. , 10. ]), cv=None, fit_intercept=True,\n",
       "    gcv_mode=None, normalize=False, scoring=None, store_cv_values=False)"
      ]
     },
     "execution_count": 221,
     "metadata": {},
     "output_type": "execute_result"
    }
   ],
   "source": [
    "X = df[['country','pop','trap','rnb','broadway']]\n",
    "y = df['views']\n",
    "\n",
    "ridge_model = RidgeCV()\n",
    "ridge_model.fit(X, y)"
   ]
  },
  {
   "cell_type": "code",
   "execution_count": 222,
   "metadata": {},
   "outputs": [
    {
     "data": {
      "image/png": "[encoded data removed]",
      "text/plain": [
       "<Figure size 640x480 with 1 Axes>"
      ]
     },
     "metadata": {},
     "output_type": "display_data"
    }
   ],
   "source": [
    "scores = sorted(list(zip(X_train.columns, ridge_model.coef_)), key = lambda x: x[1])\n",
    "plt.rcdefaults()\n",
    "fig, ax = plt.subplots()\n",
    "\n",
    "# Example data\n",
    "genres, performance = zip(*scores)\n",
    "y_pos = np.arange(len(genres))\n",
    "\n",
    "ax.barh(y_pos, performance, align='center',\n",
    "        color='green')\n",
    "ax.set_yticks(y_pos)\n",
    "ax.set_yticklabels(genres)\n",
    "ax.invert_yaxis()  # labels read top-to-bottom\n",
    "ax.set_xlabel('Regularized coefficient')\n",
    "ax.set_title('Does this genre tend to get more views or fewer?')\n",
    "\n",
    "plt.show()\n",
    "fig.savefig('genres.svg')"
   ]
  },
  {
   "cell_type": "code",
   "execution_count": 223,
   "metadata": {
    "scrolled": true
   },
   "outputs": [],
   "source": [
    "lim_df = pd.DataFrame(X, columns = ['country', 'rnb', 'broadway', 'pop', 'trap'])\n",
    "lim_df['views'] = y.reset_index(drop = True)"
   ]
  },
  {
   "cell_type": "code",
   "execution_count": 224,
   "metadata": {
    "scrolled": true
   },
   "outputs": [
    {
     "data": {
      "text/html": [
       "<table class=\"simpletable\">\n",
       "<caption>OLS Regression Results</caption>\n",
       "<tr>\n",
       "  <th>Dep. Variable:</th>          <td>views</td>      <th>  R-squared:         </th> <td>   0.034</td> \n",
       "</tr>\n",
       "<tr>\n",
       "  <th>Model:</th>                   <td>OLS</td>       <th>  Adj. R-squared:    </th> <td>   0.029</td> \n",
       "</tr>\n",
       "<tr>\n",
       "  <th>Method:</th>             <td>Least Squares</td>  <th>  F-statistic:       </th> <td>   6.707</td> \n",
       "</tr>\n",
       "<tr>\n",
       "  <th>Date:</th>             <td>Tue, 09 Jul 2019</td> <th>  Prob (F-statistic):</th> <td>3.75e-06</td> \n",
       "</tr>\n",
       "<tr>\n",
       "  <th>Time:</th>                 <td>16:25:17</td>     <th>  Log-Likelihood:    </th> <td> -14679.</td> \n",
       "</tr>\n",
       "<tr>\n",
       "  <th>No. Observations:</th>      <td>   951</td>      <th>  AIC:               </th> <td>2.937e+04</td>\n",
       "</tr>\n",
       "<tr>\n",
       "  <th>Df Residuals:</th>          <td>   945</td>      <th>  BIC:               </th> <td>2.940e+04</td>\n",
       "</tr>\n",
       "<tr>\n",
       "  <th>Df Model:</th>              <td>     5</td>      <th>                     </th>     <td> </td>    \n",
       "</tr>\n",
       "<tr>\n",
       "  <th>Covariance Type:</th>      <td>nonrobust</td>    <th>                     </th>     <td> </td>    \n",
       "</tr>\n",
       "</table>\n",
       "<table class=\"simpletable\">\n",
       "<tr>\n",
       "      <td></td>         <th>coef</th>     <th>std err</th>      <th>t</th>      <th>P>|t|</th>  <th>[0.025</th>    <th>0.975]</th>  \n",
       "</tr>\n",
       "<tr>\n",
       "  <th>Intercept</th> <td> 1.426e+06</td> <td> 5.41e+04</td> <td>   26.375</td> <td> 0.000</td> <td> 1.32e+06</td> <td> 1.53e+06</td>\n",
       "</tr>\n",
       "<tr>\n",
       "  <th>country</th>   <td>  -9.2e+05</td> <td> 7.11e+05</td> <td>   -1.294</td> <td> 0.196</td> <td>-2.32e+06</td> <td> 4.75e+05</td>\n",
       "</tr>\n",
       "<tr>\n",
       "  <th>rnb</th>       <td> 7868.5570</td> <td> 1.09e+05</td> <td>    0.072</td> <td> 0.943</td> <td>-2.07e+05</td> <td> 2.23e+05</td>\n",
       "</tr>\n",
       "<tr>\n",
       "  <th>broadway</th>  <td>-4.005e+04</td> <td> 2.37e+05</td> <td>   -0.169</td> <td> 0.866</td> <td>-5.06e+05</td> <td> 4.26e+05</td>\n",
       "</tr>\n",
       "<tr>\n",
       "  <th>pop</th>       <td>   3.7e+05</td> <td> 1.15e+05</td> <td>    3.224</td> <td> 0.001</td> <td> 1.45e+05</td> <td> 5.95e+05</td>\n",
       "</tr>\n",
       "<tr>\n",
       "  <th>trap</th>      <td> 4.411e+05</td> <td> 9.09e+04</td> <td>    4.852</td> <td> 0.000</td> <td> 2.63e+05</td> <td> 6.19e+05</td>\n",
       "</tr>\n",
       "</table>\n",
       "<table class=\"simpletable\">\n",
       "<tr>\n",
       "  <th>Omnibus:</th>       <td>712.567</td> <th>  Durbin-Watson:     </th> <td>   0.085</td> \n",
       "</tr>\n",
       "<tr>\n",
       "  <th>Prob(Omnibus):</th> <td> 0.000</td>  <th>  Jarque-Bera (JB):  </th> <td>14384.275</td>\n",
       "</tr>\n",
       "<tr>\n",
       "  <th>Skew:</th>          <td> 3.253</td>  <th>  Prob(JB):          </th> <td>    0.00</td> \n",
       "</tr>\n",
       "<tr>\n",
       "  <th>Kurtosis:</th>      <td>20.908</td>  <th>  Cond. No.          </th> <td>    19.1</td> \n",
       "</tr>\n",
       "</table><br/><br/>Warnings:<br/>[1] Standard Errors assume that the covariance matrix of the errors is correctly specified."
      ],
      "text/plain": [
       "<class 'statsmodels.iolib.summary.Summary'>\n",
       "\"\"\"\n",
       "                            OLS Regression Results                            \n",
       "==============================================================================\n",
       "Dep. Variable:                  views   R-squared:                       0.034\n",
       "Model:                            OLS   Adj. R-squared:                  0.029\n",
       "Method:                 Least Squares   F-statistic:                     6.707\n",
       "Date:                Tue, 09 Jul 2019   Prob (F-statistic):           3.75e-06\n",
       "Time:                        16:25:17   Log-Likelihood:                -14679.\n",
       "No. Observations:                 951   AIC:                         2.937e+04\n",
       "Df Residuals:                     945   BIC:                         2.940e+04\n",
       "Df Model:                           5                                         \n",
       "Covariance Type:            nonrobust                                         \n",
       "==============================================================================\n",
       "                 coef    std err          t      P>|t|      [0.025      0.975]\n",
       "------------------------------------------------------------------------------\n",
       "Intercept   1.426e+06   5.41e+04     26.375      0.000    1.32e+06    1.53e+06\n",
       "country      -9.2e+05   7.11e+05     -1.294      0.196   -2.32e+06    4.75e+05\n",
       "rnb         7868.5570   1.09e+05      0.072      0.943   -2.07e+05    2.23e+05\n",
       "broadway   -4.005e+04   2.37e+05     -0.169      0.866   -5.06e+05    4.26e+05\n",
       "pop           3.7e+05   1.15e+05      3.224      0.001    1.45e+05    5.95e+05\n",
       "trap        4.411e+05   9.09e+04      4.852      0.000    2.63e+05    6.19e+05\n",
       "==============================================================================\n",
       "Omnibus:                      712.567   Durbin-Watson:                   0.085\n",
       "Prob(Omnibus):                  0.000   Jarque-Bera (JB):            14384.275\n",
       "Skew:                           3.253   Prob(JB):                         0.00\n",
       "Kurtosis:                      20.908   Cond. No.                         19.1\n",
       "==============================================================================\n",
       "\n",
       "Warnings:\n",
       "[1] Standard Errors assume that the covariance matrix of the errors is correctly specified.\n",
       "\"\"\""
      ]
     },
     "execution_count": 224,
     "metadata": {},
     "output_type": "execute_result"
    }
   ],
   "source": [
    "# Define the model\n",
    "lm1 = smf.ols('views ~ country + rnb + broadway + pop + trap', data=lim_df)\n",
    "\n",
    "# Fit the model\n",
    "fit1 = lm1.fit()\n",
    "\n",
    "# Print summary statistics of the model's performance\n",
    "fit1.summary()"
   ]
  }
 ],
 "metadata": {
  "kernelspec": {
   "display_name": "Python 3",
   "language": "python",
   "name": "python3"
  },
  "language_info": {
   "codemirror_mode": {
    "name": "ipython",
    "version": 3
   },
   "file_extension": ".py",
   "mimetype": "text/x-python",
   "name": "python",
   "nbconvert_exporter": "python",
   "pygments_lexer": "ipython3",
   "version": "3.7.3"
  }
 },
 "nbformat": 4,
 "nbformat_minor": 2
}
