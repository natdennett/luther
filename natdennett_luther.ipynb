{
 "cells": [
  {
   "cell_type": "code",
   "execution_count": 95,
   "metadata": {},
   "outputs": [],
   "source": [
    "import re\n",
    "import requests\n",
    "from bs4 import BeautifulSoup\n",
    "import pandas as pd\n",
    "from selenium import webdriver\n",
    "from selenium.webdriver.common.keys import Keys\n",
    "import time\n",
    "from collections import namedtuple\n",
    "from collections import defaultdict\n",
    "import os\n",
    "import pickle\n",
    "from time import time, sleep\n",
    "import random"
   ]
  },
  {
   "cell_type": "code",
   "execution_count": 11,
   "metadata": {},
   "outputs": [],
   "source": [
    "# path to the chromedriver executable\n",
    "def start_driver(url):\n",
    "\n",
    "    \"\"\"This function will open a Chrome browser at the given url.\n",
    "    Input: a valid URL as a string.\n",
    "    Doesn't return anything, but creates a global variable *driver*\n",
    "    that can be called upon elsewhere.\"\"\"\n",
    "    \n",
    "    chromedriver = \"/Applications/chromedriver\"\n",
    "    os.environ[\"webdriver.chrome.driver\"] = chromedriver\n",
    "\n",
    "    \n",
    "    # Using the global keyword so that we can call upon the driver\n",
    "    # further down in the code.\n",
    "    \n",
    "    global driver \n",
    "    driver = webdriver.Chrome(chromedriver)\n",
    "\n",
    "    driver.get(url)"
   ]
  },
  {
   "cell_type": "code",
   "execution_count": 4,
   "metadata": {},
   "outputs": [],
   "source": [
    "# Start by opening the all rap songs page.\n",
    "\n",
    "all_rap_songs_genius = \"https://genius.com/tags/rap/all\"\n",
    "start_driver(all_rap_songs_genius)"
   ]
  },
  {
   "cell_type": "code",
   "execution_count": 40,
   "metadata": {},
   "outputs": [],
   "source": [
    "# Use Selenium to scroll down to the bottom of the screen\n",
    "# This only works if you manually focus on the Chrome browser.\n",
    "\n",
    "for i in range (10):\n",
    "    driver.execute_script(\"window.scrollTo(0, document.body.scrollHeight);\")\n",
    "    sleep(1)"
   ]
  },
  {
   "cell_type": "code",
   "execution_count": 41,
   "metadata": {},
   "outputs": [],
   "source": [
    "# This code snippet is there to grab links to songs\n",
    "# on the https://genius.com/tags/rap/all page.\n",
    "# It appears that 1000 is the most search results\n",
    "# that genius.com will display at one time.\n",
    "\n",
    "\n",
    "link_selector = '//a[@class= \" song_link\"]'\n",
    "top_songs = driver.find_elements_by_xpath(link_selector)\n",
    "\n",
    "\n",
    "link_list = []\n",
    "\n",
    "for elem in top_songs:\n",
    "    link_list.append(elem.get_attribute('href'))"
   ]
  },
  {
   "cell_type": "code",
   "execution_count": 44,
   "metadata": {},
   "outputs": [],
   "source": [
    "# I save the list of links as a pickle.\n",
    "# That way, I don't have to do this again.\n",
    "\n",
    "with open('links.pkl', 'wb') as link_pickle:\n",
    "    pickle.dump(link_list,link_pickle)"
   ]
  },
  {
   "cell_type": "code",
   "execution_count": 3,
   "metadata": {},
   "outputs": [],
   "source": [
    "# If I pick up again I can just pull from the pickle\n",
    "\n",
    "with open('links.pkl', 'rb') as link_pickle:\n",
    "    link_list = pickle.load(link_pickle)"
   ]
  },
  {
   "cell_type": "code",
   "execution_count": 68,
   "metadata": {},
   "outputs": [],
   "source": [
    "# Define the Song data structure\n",
    "# Remember: namedtuples require that you plug in \n",
    "# every data type.\n",
    "\n",
    "Song = namedtuple('Song', ['header', 'verified', 'metadata', 'lyrics'])"
   ]
  },
  {
   "cell_type": "markdown",
   "metadata": {},
   "source": [
    "### Categories to scrape\n",
    "- [x] Header\n",
    "    - [x] Title\n",
    "    - [x] artist\n",
    "    - [x] featuring\n",
    "    - [x] producer\n",
    "- [x] Verified contribution by artist?\n",
    "- [x] text of lyrics\n",
    "- [x] Metadata\n",
    "    - [x] Contributors\n",
    "    - [x] \\# of views\n",
    "    - [x] tags\n"
   ]
  },
  {
   "cell_type": "code",
   "execution_count": 96,
   "metadata": {},
   "outputs": [],
   "source": [
    "def scrape_info(list_of_urls):\n",
    "    \"\"\"This function uses the Chrome driver to visit \n",
    "    every page on a list of Genius links,\n",
    "    and gathers the info I want to analyze.\n",
    "    Input needs to be:\n",
    "    a list of links to Genius pages, otherwise it won't work. \n",
    "    Output will be:\n",
    "    a dict of named tuples of the Song format.\"\"\"\n",
    "\n",
    "    dict_of_songs = defaultdict(Song)\n",
    "\n",
    "    for i, url in enumerate(list_of_urls):\n",
    "        driver.get(url)\n",
    "        driver.execute_script(\n",
    "            \"window.scrollTo(0, document.body.scrollHeight);\")\n",
    "        sleep(.5+2*random.random())\n",
    "\n",
    "        # Gather and filter metadata\n",
    "\n",
    "        views_regex = re.compile('views', re.IGNORECASE)\n",
    "        contrib_regex = re.compile('contributors', re.IGNORECASE)\n",
    "        tag_regex = re.compile('(\\w+,\\s\\w+)+')\n",
    "\n",
    "        all_metadata = driver.find_elements_by_class_name('metadata_with_icon')\n",
    "\n",
    "        filtered_metadata = [metadata.text for metadata in all_metadata\n",
    "                             if re.search(views_regex, metadata.text)\n",
    "                             or re.search(contrib_regex, metadata.text)\n",
    "                             or re.search(tag_regex, metadata.text)]\n",
    "\n",
    "        # Scrape raw lyrics\n",
    "\n",
    "        lyrics_string = ''\n",
    "\n",
    "        lyrics = driver.find_elements_by_class_name('song_body-lyrics')\n",
    "        for lyric in lyrics:\n",
    "            lyrics_string += lyric.text\n",
    "\n",
    "        # Scrape header\n",
    "\n",
    "        header_string = driver.find_element_by_class_name(\n",
    "            'header_with_cover_art-primary_info').text\n",
    "\n",
    "        # Determine whether artist has contributed to their song page\n",
    "\n",
    "        try:\n",
    "            ver_art = driver.find_element_by_class_name(\n",
    "                'song_verified_artists-section')\n",
    "            verified_bool = True\n",
    "        except:\n",
    "            verified_bool = False\n",
    "            \n",
    "        # Create Song named tuple and add to dictionary\n",
    "\n",
    "        dict_of_songs[url] = Song(header=header_string, lyrics=lyrics_string,\n",
    "                                  verified=verified_bool, metadata=filtered_metadata)\n",
    "        if (i+1 % 100 == 0):\n",
    "            time.sleep(320)\n",
    "\n",
    "    return dict_of_songs"
   ]
  },
  {
   "cell_type": "code",
   "execution_count": null,
   "metadata": {},
   "outputs": [],
   "source": [
    "start_driver('https://genius.com/Lil-nas-x-old-town-road-remix-lyrics')"
   ]
  },
  {
   "cell_type": "code",
   "execution_count": 99,
   "metadata": {},
   "outputs": [],
   "source": [
    "song_dict = scrape_info(link_list)"
   ]
  },
  {
   "cell_type": "code",
   "execution_count": 104,
   "metadata": {},
   "outputs": [
    {
     "data": {
      "text/plain": [
       "'Kim\\nEminem\\nProduced by Bass Brothers\\nAlbum The Marshall Mathers LP'"
      ]
     },
     "execution_count": 104,
     "metadata": {},
     "output_type": "execute_result"
    }
   ],
   "source": [
    "song_dict['https://genius.com/Eminem-kim-lyrics']"
   ]
  },
  {
   "cell_type": "code",
   "execution_count": 102,
   "metadata": {},
   "outputs": [],
   "source": [
    "# Pickling the song dict\n",
    "with open('songs_dict', 'wb') as song_file:\n",
    "    pickle.dump(song_dict, song_file)"
   ]
  },
  {
   "cell_type": "code",
   "execution_count": 3,
   "metadata": {},
   "outputs": [],
   "source": [
    "# Unpickle the list of links\n",
    "with open('links.pkl', 'rb') as pickle_file:\n",
    "    link_list = pickle.load(pickle_file)"
   ]
  },
  {
   "cell_type": "code",
   "execution_count": 10,
   "metadata": {},
   "outputs": [],
   "source": [
    "url = 'https://genius.com/Eminem-rap-god-lyrics'\n",
    "\n",
    "response = requests.get(url)\n",
    "tag_soup = bs4.BeautifulSoup(response.text)\n",
    "\n",
    "lyrics = ''\n",
    "for lyric in tag_soup.find_all(class_='song_body-lyrics'):\n",
    "    lyrics += lyric.text\n",
    "\n",
    "# Removes the bracketed sections like [Intro: Ariana Grande]\n",
    "# Still need to work on removing header and footer\n",
    "# header = title, i.e. MONOPOLY by Ariana Grande\n",
    "# Footer = advertisement at the end: 'More on Genius'\n",
    "\n",
    "cleaned_lyrics = re.sub(r'\\[.+\\]', '', lyrics)\n",
    "cleaned_lyrics = re.sub(r'[\\'\\\"\\(\\),\\?\\“\\”]', '', cleaned_lyrics.lower())\n",
    "\n",
    "# Get a list of the words in the lyrics\n",
    "words_list = cleaned_lyrics.lower().split()\n",
    "\n",
    "# Freq dict\n",
    "freq_dict = {}\n",
    "for word in words_list:\n",
    "    freq_dict[word] = freq_dict.get(word, 0) + 1"
   ]
  },
  {
   "cell_type": "code",
   "execution_count": 115,
   "metadata": {},
   "outputs": [],
   "source": [
    "genius_url = \"https://genius.com/Eminem-rap-god-lyrics\"\n",
    "driver = webdriver.Chrome(chromedriver)\n",
    "\n",
    "driver.get(genius_url)"
   ]
  },
  {
   "cell_type": "code",
   "execution_count": 103,
   "metadata": {},
   "outputs": [],
   "source": [
    "driver.execute_script(\"window.scrollTo(0, document.body.scrollHeight);\")"
   ]
  },
  {
   "cell_type": "code",
   "execution_count": 28,
   "metadata": {},
   "outputs": [],
   "source": [
    "all_metadata = driver.find_elements_by_class_name('metadata_with_icon')\n",
    "\n",
    "metadata_list = []\n",
    "\n",
    "for item in all_metadata:\n",
    "    metadata_list.append(item.text)"
   ]
  },
  {
   "cell_type": "code",
   "execution_count": 53,
   "metadata": {},
   "outputs": [],
   "source": [
    "views1 = metadata_list[1]\n",
    "contrib = metadata_list[2]\n",
    "tags1 = metadata_list[3]"
   ]
  },
  {
   "cell_type": "code",
   "execution_count": 58,
   "metadata": {},
   "outputs": [],
   "source": [
    "# Still need to figure out how to scrape duration of song\n",
    "# so that I can produce words_per_minute\n",
    "rap_god = Song(title='Rap God', total_words=len(words_list), unique_words=len(\n",
    "    freq_dict), lyrics=cleaned_lyrics, views=views1, contributors=contrib, tags=tags1, words_per_minute=123)"
   ]
  },
  {
   "cell_type": "code",
   "execution_count": 65,
   "metadata": {},
   "outputs": [
    {
     "name": "stdout",
     "output_type": "stream",
     "text": [
      "\n",
      "rap god lyrics\n",
      "\n",
      "\n",
      "\n",
      "\n",
      "look i was gonna go easy on you not to hurt your feelings.\n",
      "but im only going to get this one chance.\n",
      "somethings wrong i can feel it.\n",
      "six minutes. six minutes. six minutes slim shady youre on!\n",
      "just a feeling ive got. like somethings about to happen but i dont know what. if that means what i think it means were in trouble big trouble; and if he is as bananas as you say im not taking any chances.\n",
      "you are just what the doc ordered.\n",
      "\n",
      "\n",
      "im beginnin to feel like a rap god rap god\n",
      "all my people from the front to the back nod back nod\n",
      "now who thinks their arms are long enough to slap box slap box\n",
      "they said i rap like a robot so call me rap-bot\n",
      "\n",
      "\n",
      "but for me to rap like a computer it must be in my genes\n",
      "i got a laptop in my back pocket\n",
      "my penll go off when i half-cock it\n",
      "got a fat knot from that rap profit\n",
      "made a livin and a killin off it\n",
      "ever since bill clinton was still in office\n",
      "with monica lewinsky feelin on his nutsack\n",
      "im an mc still as honest\n",
      "but as rude and as indecent as all hell\n",
      "syllables skill-a-holic kill em all with\n",
      "this flippity dippity-hippity hip-hop\n",
      "you dont really wanna get into a pissin match\n",
      "with this rappity brat packin a mac in the back of the ac\n",
      "backpack rap crap yap-yap yackety-yack\n",
      "and at the exact same time i attempt these lyrical acrobat stunts while im practicin that\n",
      "ill still be able to break a motherfuckin table\n",
      "over the back of a couple of faggots and crack it in half\n",
      "only realized it was ironic i was signed to aftermath after the fact\n",
      "how could i not blow all i do is drop f-bombs\n",
      "feel my wrath of attack\n",
      "rappers are havin a rough time period heres a maxi pad\n",
      "its actually disastrously bad for the wack\n",
      "while im masterfully constructing this masterpiece as\n",
      "\n",
      "\n",
      "cause im beginnin to feel like a rap god rap god\n",
      "all my people from the front to the back nod back nod\n",
      "now who thinks their arms are long enough to slap box slap box\n",
      "let me show you maintainin this shit aint that hard that hard\n",
      "\n",
      "\n",
      "everybody wants the key and the secret to rap immortality like have got. well to be truthful the blueprints\n",
      "simply rage and youthful exuberance\n",
      "everybody loves to root for a nuisance\n",
      "hit the earth like an asteroid\n",
      "did nothing but shoot for the moon since pew!\n",
      "mcs get taken to school with this music\n",
      "cause i use it as a vehicle to bus the rhyme\n",
      "now i lead a new school full of students\n",
      "me im a product of rakim\n",
      "lakim shabazz 2pac n.w.a cube hey doc ren\n",
      "yella eazy thank you they got slim\n",
      "inspired enough to one day grow up blow up and be in a position\n",
      "to meet run–d.m.c. induct them\n",
      "into the motherfuckin rock and roll hall of fame\n",
      "even though ill walk in the church and burst in a ball of flames\n",
      "only hall of fame ill be inducted in is the alcohol of fame\n",
      "on the wall of shame\n",
      "you fags think its all a game till i walk a flock of flames\n",
      "f a plank ain tell me what in the fuck are you thinkin\n",
      "little gay-lookin boy\n",
      "so gay i can barely say it with a straight face lookin boy\n",
      "youre witnessin a massacre\n",
      "like youre watching a church gathering take place lookin boy\n",
      "oy vey that boys gay!—thats all they say lookin boy\n",
      "you get a thumbs up pat on the back\n",
      "and a way to go from your label every day lookin boy\n",
      "hey lookin boy! what you say lookin boy\n",
      "i get a hell yeah from dre lookin boy\n",
      "ima work for everything i have never ask nobody for shit\n",
      "get outta my face lookin boy!\n",
      "basically boy youre never gonna be capable\n",
      "of keepin up with the same pace lookin boy cause—\n",
      "\n",
      "\n",
      "im beginnin to feel like a rap god rap god\n",
      "all my people from the front to the back nod back nod\n",
      "the way im racin around the track call me nascar nascar\n",
      "dale earnhardt of the trailer park the white trash god\n",
      "kneel before general zod\n",
      "this planets krypton—no asgard asgard\n",
      "\n",
      "\n",
      "so youll be thor and ill be odin\n",
      "you rodent im omnipotent\n",
      "let off then im reloadin\n",
      "immediately with these bombs im totin\n",
      "and i should not be woken\n",
      "im the walkin dead but im just a talkin head a zombie floatin\n",
      "but i got your mom deep-throatin\n",
      "im out my ramen noodle\n",
      "we have nothin in common poodle\n",
      "im a doberman pinch yourself in the arm and pay homage pupil\n",
      "its me my honestys brutal\n",
      "but its honestly futile if i dont utilize what i do though\n",
      "for good at least once in a while\n",
      "so i wanna make sure somewhere in this chicken scratch i scribble and doodle enough rhymes\n",
      "to maybe try to help get some people through tough times\n",
      "but i gotta keep a few punchlines\n",
      "just in case cause even you unsigned\n",
      "rappers are hungry lookin at me like its lunchtime\n",
      "i know there was a time where once i\n",
      "was king of the underground\n",
      "but i still rap like im on my pharoahe monch grind\n",
      "so i crunch rhymes but sometimes when you combine\n",
      "appeal with the skin color of mine\n",
      "you get too big and here they come tryin\n",
      "to censor you like that one line\n",
      "i said on im back from the mathers lp 1 when i\n",
      "tried to say ill take seven kids from columbine\n",
      "put em all in a line add an ak-47 a revolver and a 9\n",
      "see if i get away with it now that i aint as big as i was but im\n",
      "morphin into an immortal comin through the portal\n",
      "youre stuck in a time warp from 2004 though\n",
      "and i dont know what the fuck that you rhyme for\n",
      "youre pointless as rapunzel with fuckin cornrows\n",
      "you write normal fuck being normal!\n",
      "and i just bought a new raygun from the future\n",
      "just to come and shoot ya like when fabolous made ray j mad\n",
      "cause fab said he looked like a fag at mayweathers pad\n",
      "singin to a man while he played piano\n",
      "man oh man that was the 24/7 special on the cable channel\n",
      "so ray j went straight to the radio station\n",
      "the very next day hey fab ima kill you!\n",
      "lyrics comin at you at supersonic speed j.j. fad\n",
      "uh summa-lumma dooma-lumma you assumin im a human\n",
      "what i gotta do to get it through to you im superhuman\n",
      "innovative and im made of rubber so that anything you say is ricochetin off of me and itll glue to you and\n",
      "im devastating more than ever demonstrating\n",
      "how to give a motherfuckin audience a feeling like its levitating\n",
      "never fading and i know the haters are forever waiting\n",
      "for the day that they can say i fell off theyll be celebrating\n",
      "cause i know the way to get em motivated\n",
      "i make elevating music you make elevator music\n",
      "oh hes too mainstream.\n",
      "well thats what they do when they get jealous they confuse it\n",
      "its not hip-hop its pop—cause i found a hella way to fuse it\n",
      "with rock shock rap with doc\n",
      "throw on lose yourself and make em lose it\n",
      "i dont know how to make songs like that\n",
      "i dont know what words to use.\n",
      "let me know when it occurs to you\n",
      "while im rippin any one of these verses that versus you\n",
      "its curtains im inadvertently hurtin you\n",
      "how many verses i gotta murder to\n",
      "prove that if you were half as nice\n",
      "your songs you could sacrifice virgins too\n",
      "ugh school flunky pill junkie\n",
      "but look at the accolades these skills brung me\n",
      "full of myself but still hungry\n",
      "i bully myself cause i make me do what i put my mind to\n",
      "and im a million leagues above you\n",
      "ill when i speak in tongues but its still tongue-in-cheek fuck you!\n",
      "im drunk so satan take the fucking wheel\n",
      "ima sleep in the front seat\n",
      "bumpin heavy d and the boyz still chunky but funky\n",
      "but in my head theres something i can feel tugging and struggling\n",
      "angels fight with devils and heres what they want from me\n",
      "theyre askin me to eliminate some of the women hate\n",
      "but if you take into consideration the bitter hatred\n",
      "i have then you may be a little patient\n",
      "and more sympathetic to the situation\n",
      "and understand the discrimination\n",
      "but fuck it lifes handin you lemons make lemonade then!\n",
      "but if i cant batter the women\n",
      "how the fuck am i supposed to bake them a cake then\n",
      "dont mistake him for satan; its a fatal mistake\n",
      "if you think i need to be overseas and take a vacation\n",
      "to trip a broad and make her fall on her face and\n",
      "dont be a retard! be a king think not\n",
      "why be a king when you can be a god\n",
      "\n",
      "\n",
      "\n",
      "\n",
      "\n",
      "more on genius\n",
      "\n",
      "\n",
      "\n",
      "eminem says he doesn’t have the rage he did when making ‘the marshall mathers lp’\n",
      "\n",
      "\n",
      "\n",
      "\n",
      "\n",
      "eminems fastest raps\n",
      "\n",
      "\n",
      "\n",
      "\n",
      "\n",
      "looking back at eminems rap god\n",
      "\n",
      "\n",
      "\n",
      "\n",
      "\n"
     ]
    }
   ],
   "source": [
    "print(rap_god.lyrics)"
   ]
  },
  {
   "cell_type": "code",
   "execution_count": 105,
   "metadata": {},
   "outputs": [],
   "source": [
    "xpath = '/html/body/apple-music-player/div/div/div[2]/playback-time[2]/div'"
   ]
  },
  {
   "cell_type": "code",
   "execution_count": 106,
   "metadata": {},
   "outputs": [],
   "source": [
    "# This didn't get me anywhere.\n",
    "# But the duration should live in this little player!\n",
    "music_player = driver.find_elements_by_xpath(xpath)\n",
    "\n",
    "for elem in music_player:\n",
    "    print(elem.text)"
   ]
  },
  {
   "cell_type": "code",
   "execution_count": 107,
   "metadata": {
    "scrolled": true
   },
   "outputs": [
    {
     "data": {
      "text/plain": [
       "[]"
      ]
     },
     "execution_count": 107,
     "metadata": {},
     "output_type": "execute_result"
    }
   ],
   "source": [
    "music_player"
   ]
  },
  {
   "cell_type": "code",
   "execution_count": 108,
   "metadata": {},
   "outputs": [],
   "source": [
    "html = driver.page_source\n",
    "soup = BeautifulSoup(html)"
   ]
  }
 ],
 "metadata": {
  "kernelspec": {
   "display_name": "Python 3",
   "language": "python",
   "name": "python3"
  },
  "language_info": {
   "codemirror_mode": {
    "name": "ipython",
    "version": 3
   },
   "file_extension": ".py",
   "mimetype": "text/x-python",
   "name": "python",
   "nbconvert_exporter": "python",
   "pygments_lexer": "ipython3",
   "version": "3.7.2"
  }
 },
 "nbformat": 4,
 "nbformat_minor": 2
}
