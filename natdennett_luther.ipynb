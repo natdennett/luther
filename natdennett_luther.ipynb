{
 "cells": [
  {
   "cell_type": "code",
   "execution_count": 1,
   "metadata": {},
   "outputs": [],
   "source": [
    "import re\n",
    "import requests\n",
    "from bs4 import BeautifulSoup\n",
    "import pandas as pd\n",
    "from selenium import webdriver\n",
    "from selenium.webdriver.common.keys import Keys\n",
    "import time\n",
    "from collections import namedtuple\n",
    "\n",
    "import os\n",
    "import pickle"
   ]
  },
  {
   "cell_type": "code",
   "execution_count": 2,
   "metadata": {},
   "outputs": [],
   "source": [
    "# path to the chromedriver executable\n",
    "chromedriver = \"/Applications/chromedriver\"\n",
    "os.environ[\"webdriver.chrome.driver\"] = chromedriver\n",
    "\n",
    "top_songs_genius = \"https://genius.com/#Top-Songs\"\n",
    "driver = webdriver.Chrome(chromedriver)\n",
    "\n",
    "driver.get(top_songs_genius)"
   ]
  },
  {
   "cell_type": "code",
   "execution_count": null,
   "metadata": {},
   "outputs": [],
   "source": [
    "# Use Selenium to pull many links from the Top Songs page\n",
    "driver.execute_script(\"window.scrollTo(0, document.body.scrollHeight);\")\n",
    "\n",
    "\n"
   ]
  },
  {
   "cell_type": "code",
   "execution_count": null,
   "metadata": {},
   "outputs": [],
   "source": [
    "# This code snippet is there to grab links to songs\n",
    "# on the https://genius.com/#TopSongs page.\n",
    "\n",
    "link_selector = '//a[@class= \"chart_row\"]'\n",
    "top_songs = driver.find_elements_by_xpath(link_selector)\n",
    "\n",
    "\n",
    "\n",
    "link_list = []\n",
    "\n",
    "for elem in top_songs:\n",
    "    link_list.append(elem.get_attribute('href'))"
   ]
  },
  {
   "cell_type": "code",
   "execution_count": null,
   "metadata": {},
   "outputs": [],
   "source": [
    "link_list = [tag.get('href') for tag in soup.find_all('a')]\n",
    "\n",
    "just_links = link_list[53:300:3]\n",
    "\n",
    "main_link = 'https://www.boxofficemojo.com{}'\n",
    "full_links = [main_link.format(link) for link in just_links]"
   ]
  },
  {
   "cell_type": "code",
   "execution_count": 43,
   "metadata": {},
   "outputs": [],
   "source": [
    "# Scroll to the bottom of the screen so that the metadata appears\n",
    "driver.execute_script(\"window.scrollTo(0, document.body.scrollHeight);\")\n",
    "\n",
    "# May need to plug in some kind of pause.\n",
    "# Sometimes the metadata doesn't appear right away.\n",
    "\n",
    "all_metadata = driver.find_elements_by_class_name('metadata_with_icon')\n",
    "\n",
    "# This is just to check whether the metadata is there.\n",
    "\n",
    "for item in all_metadata:\n",
    "    print(item.text)\n",
    "\n",
    "# This creates a list of the main metadata categories in string form\n",
    "# This includes the number of views, the number of contributors\n",
    "# and the tags (= genres)\n",
    "\n",
    "metadata_list = []\n",
    "\n",
    "for item in all_metadata:\n",
    "    metadata_list.append(item.text)"
   ]
  },
  {
   "cell_type": "code",
   "execution_count": null,
   "metadata": {},
   "outputs": [],
   "source": [
    "# Pickle the list of links scraped above:\n",
    "with open('links.pkl', 'wb') as pickle_file:\n",
    "    pickle.dump(link_list, pickle_file)"
   ]
  },
  {
   "cell_type": "code",
   "execution_count": 3,
   "metadata": {},
   "outputs": [],
   "source": [
    "# Unpickle the list of links\n",
    "with open('links.pkl', 'rb') as pickle_file:\n",
    "    link_list = pickle.load(pickle_file)"
   ]
  },
  {
   "cell_type": "code",
   "execution_count": 47,
   "metadata": {},
   "outputs": [],
   "source": [
    "# Define the Song data structure\n",
    "# Remember: namedtuples require that you plug in every data type.\n",
    "Song = namedtuple('Song', ['title', 'total_words', 'unique_words', 'words_per_minute', 'contributors', 'views', 'tags','lyrics'])"
   ]
  },
  {
   "cell_type": "code",
   "execution_count": 48,
   "metadata": {},
   "outputs": [],
   "source": [
    "\n",
    "for link_anchor in driver.find_elements_by_xpath(link_selector):\n",
    "    print(link_anchor.text)"
   ]
  },
  {
   "cell_type": "code",
   "execution_count": 10,
   "metadata": {},
   "outputs": [],
   "source": [
    "url = 'https://genius.com/Eminem-rap-god-lyrics'\n",
    "\n",
    "response = requests.get(url)\n",
    "tag_soup = bs4.BeautifulSoup(response.text)\n",
    "\n",
    "lyrics = ''\n",
    "for lyric in tag_soup.find_all(class_='song_body-lyrics'):\n",
    "    lyrics += lyric.text\n",
    "\n",
    "# Removes the bracketed sections like [Intro: Ariana Grande]\n",
    "# Still need to work on removing header and footer\n",
    "# header = title, i.e. MONOPOLY by Ariana Grande\n",
    "# Footer = advertisement at the end: 'More on Genius'\n",
    "\n",
    "cleaned_lyrics = re.sub(r'\\[.+\\]', '', lyrics)\n",
    "cleaned_lyrics = re.sub(r'[\\'\\\"\\(\\),\\?\\“\\”]', '', cleaned_lyrics.lower())\n",
    "\n",
    "# Get a list of the words in the lyrics\n",
    "words_list = cleaned_lyrics.lower().split()\n",
    "\n",
    "# Freq dict\n",
    "freq_dict = {}\n",
    "for word in words_list:\n",
    "    freq_dict[word] = freq_dict.get(word, 0) + 1"
   ]
  },
  {
   "cell_type": "code",
   "execution_count": 115,
   "metadata": {},
   "outputs": [],
   "source": [
    "genius_url = \"https://genius.com/Eminem-rap-god-lyrics\"\n",
    "driver = webdriver.Chrome(chromedriver)\n",
    "\n",
    "driver.get(genius_url)"
   ]
  },
  {
   "cell_type": "code",
   "execution_count": 103,
   "metadata": {},
   "outputs": [],
   "source": [
    "driver.execute_script(\"window.scrollTo(0, document.body.scrollHeight);\")"
   ]
  },
  {
   "cell_type": "code",
   "execution_count": 28,
   "metadata": {},
   "outputs": [],
   "source": [
    "all_metadata = driver.find_elements_by_class_name('metadata_with_icon')\n",
    "\n",
    "metadata_list = []\n",
    "\n",
    "for item in all_metadata:\n",
    "    metadata_list.append(item.text)"
   ]
  },
  {
   "cell_type": "code",
   "execution_count": 53,
   "metadata": {},
   "outputs": [],
   "source": [
    "views1 = metadata_list[1]\n",
    "contrib = metadata_list[2]\n",
    "tags1 = metadata_list[3]"
   ]
  },
  {
   "cell_type": "code",
   "execution_count": 58,
   "metadata": {},
   "outputs": [],
   "source": [
    "# Still need to figure out how to scrape duration of song\n",
    "# so that I can produce words_per_minute\n",
    "rap_god = Song(title='Rap God', total_words=len(words_list), unique_words=len(\n",
    "    freq_dict), lyrics=cleaned_lyrics, views=views1, contributors=contrib, tags=tags1, words_per_minute=123)"
   ]
  },
  {
   "cell_type": "code",
   "execution_count": 65,
   "metadata": {},
   "outputs": [
    {
     "name": "stdout",
     "output_type": "stream",
     "text": [
      "\n",
      "rap god lyrics\n",
      "\n",
      "\n",
      "\n",
      "\n",
      "look i was gonna go easy on you not to hurt your feelings.\n",
      "but im only going to get this one chance.\n",
      "somethings wrong i can feel it.\n",
      "six minutes. six minutes. six minutes slim shady youre on!\n",
      "just a feeling ive got. like somethings about to happen but i dont know what. if that means what i think it means were in trouble big trouble; and if he is as bananas as you say im not taking any chances.\n",
      "you are just what the doc ordered.\n",
      "\n",
      "\n",
      "im beginnin to feel like a rap god rap god\n",
      "all my people from the front to the back nod back nod\n",
      "now who thinks their arms are long enough to slap box slap box\n",
      "they said i rap like a robot so call me rap-bot\n",
      "\n",
      "\n",
      "but for me to rap like a computer it must be in my genes\n",
      "i got a laptop in my back pocket\n",
      "my penll go off when i half-cock it\n",
      "got a fat knot from that rap profit\n",
      "made a livin and a killin off it\n",
      "ever since bill clinton was still in office\n",
      "with monica lewinsky feelin on his nutsack\n",
      "im an mc still as honest\n",
      "but as rude and as indecent as all hell\n",
      "syllables skill-a-holic kill em all with\n",
      "this flippity dippity-hippity hip-hop\n",
      "you dont really wanna get into a pissin match\n",
      "with this rappity brat packin a mac in the back of the ac\n",
      "backpack rap crap yap-yap yackety-yack\n",
      "and at the exact same time i attempt these lyrical acrobat stunts while im practicin that\n",
      "ill still be able to break a motherfuckin table\n",
      "over the back of a couple of faggots and crack it in half\n",
      "only realized it was ironic i was signed to aftermath after the fact\n",
      "how could i not blow all i do is drop f-bombs\n",
      "feel my wrath of attack\n",
      "rappers are havin a rough time period heres a maxi pad\n",
      "its actually disastrously bad for the wack\n",
      "while im masterfully constructing this masterpiece as\n",
      "\n",
      "\n",
      "cause im beginnin to feel like a rap god rap god\n",
      "all my people from the front to the back nod back nod\n",
      "now who thinks their arms are long enough to slap box slap box\n",
      "let me show you maintainin this shit aint that hard that hard\n",
      "\n",
      "\n",
      "everybody wants the key and the secret to rap immortality like have got. well to be truthful the blueprints\n",
      "simply rage and youthful exuberance\n",
      "everybody loves to root for a nuisance\n",
      "hit the earth like an asteroid\n",
      "did nothing but shoot for the moon since pew!\n",
      "mcs get taken to school with this music\n",
      "cause i use it as a vehicle to bus the rhyme\n",
      "now i lead a new school full of students\n",
      "me im a product of rakim\n",
      "lakim shabazz 2pac n.w.a cube hey doc ren\n",
      "yella eazy thank you they got slim\n",
      "inspired enough to one day grow up blow up and be in a position\n",
      "to meet run–d.m.c. induct them\n",
      "into the motherfuckin rock and roll hall of fame\n",
      "even though ill walk in the church and burst in a ball of flames\n",
      "only hall of fame ill be inducted in is the alcohol of fame\n",
      "on the wall of shame\n",
      "you fags think its all a game till i walk a flock of flames\n",
      "f a plank ain tell me what in the fuck are you thinkin\n",
      "little gay-lookin boy\n",
      "so gay i can barely say it with a straight face lookin boy\n",
      "youre witnessin a massacre\n",
      "like youre watching a church gathering take place lookin boy\n",
      "oy vey that boys gay!—thats all they say lookin boy\n",
      "you get a thumbs up pat on the back\n",
      "and a way to go from your label every day lookin boy\n",
      "hey lookin boy! what you say lookin boy\n",
      "i get a hell yeah from dre lookin boy\n",
      "ima work for everything i have never ask nobody for shit\n",
      "get outta my face lookin boy!\n",
      "basically boy youre never gonna be capable\n",
      "of keepin up with the same pace lookin boy cause—\n",
      "\n",
      "\n",
      "im beginnin to feel like a rap god rap god\n",
      "all my people from the front to the back nod back nod\n",
      "the way im racin around the track call me nascar nascar\n",
      "dale earnhardt of the trailer park the white trash god\n",
      "kneel before general zod\n",
      "this planets krypton—no asgard asgard\n",
      "\n",
      "\n",
      "so youll be thor and ill be odin\n",
      "you rodent im omnipotent\n",
      "let off then im reloadin\n",
      "immediately with these bombs im totin\n",
      "and i should not be woken\n",
      "im the walkin dead but im just a talkin head a zombie floatin\n",
      "but i got your mom deep-throatin\n",
      "im out my ramen noodle\n",
      "we have nothin in common poodle\n",
      "im a doberman pinch yourself in the arm and pay homage pupil\n",
      "its me my honestys brutal\n",
      "but its honestly futile if i dont utilize what i do though\n",
      "for good at least once in a while\n",
      "so i wanna make sure somewhere in this chicken scratch i scribble and doodle enough rhymes\n",
      "to maybe try to help get some people through tough times\n",
      "but i gotta keep a few punchlines\n",
      "just in case cause even you unsigned\n",
      "rappers are hungry lookin at me like its lunchtime\n",
      "i know there was a time where once i\n",
      "was king of the underground\n",
      "but i still rap like im on my pharoahe monch grind\n",
      "so i crunch rhymes but sometimes when you combine\n",
      "appeal with the skin color of mine\n",
      "you get too big and here they come tryin\n",
      "to censor you like that one line\n",
      "i said on im back from the mathers lp 1 when i\n",
      "tried to say ill take seven kids from columbine\n",
      "put em all in a line add an ak-47 a revolver and a 9\n",
      "see if i get away with it now that i aint as big as i was but im\n",
      "morphin into an immortal comin through the portal\n",
      "youre stuck in a time warp from 2004 though\n",
      "and i dont know what the fuck that you rhyme for\n",
      "youre pointless as rapunzel with fuckin cornrows\n",
      "you write normal fuck being normal!\n",
      "and i just bought a new raygun from the future\n",
      "just to come and shoot ya like when fabolous made ray j mad\n",
      "cause fab said he looked like a fag at mayweathers pad\n",
      "singin to a man while he played piano\n",
      "man oh man that was the 24/7 special on the cable channel\n",
      "so ray j went straight to the radio station\n",
      "the very next day hey fab ima kill you!\n",
      "lyrics comin at you at supersonic speed j.j. fad\n",
      "uh summa-lumma dooma-lumma you assumin im a human\n",
      "what i gotta do to get it through to you im superhuman\n",
      "innovative and im made of rubber so that anything you say is ricochetin off of me and itll glue to you and\n",
      "im devastating more than ever demonstrating\n",
      "how to give a motherfuckin audience a feeling like its levitating\n",
      "never fading and i know the haters are forever waiting\n",
      "for the day that they can say i fell off theyll be celebrating\n",
      "cause i know the way to get em motivated\n",
      "i make elevating music you make elevator music\n",
      "oh hes too mainstream.\n",
      "well thats what they do when they get jealous they confuse it\n",
      "its not hip-hop its pop—cause i found a hella way to fuse it\n",
      "with rock shock rap with doc\n",
      "throw on lose yourself and make em lose it\n",
      "i dont know how to make songs like that\n",
      "i dont know what words to use.\n",
      "let me know when it occurs to you\n",
      "while im rippin any one of these verses that versus you\n",
      "its curtains im inadvertently hurtin you\n",
      "how many verses i gotta murder to\n",
      "prove that if you were half as nice\n",
      "your songs you could sacrifice virgins too\n",
      "ugh school flunky pill junkie\n",
      "but look at the accolades these skills brung me\n",
      "full of myself but still hungry\n",
      "i bully myself cause i make me do what i put my mind to\n",
      "and im a million leagues above you\n",
      "ill when i speak in tongues but its still tongue-in-cheek fuck you!\n",
      "im drunk so satan take the fucking wheel\n",
      "ima sleep in the front seat\n",
      "bumpin heavy d and the boyz still chunky but funky\n",
      "but in my head theres something i can feel tugging and struggling\n",
      "angels fight with devils and heres what they want from me\n",
      "theyre askin me to eliminate some of the women hate\n",
      "but if you take into consideration the bitter hatred\n",
      "i have then you may be a little patient\n",
      "and more sympathetic to the situation\n",
      "and understand the discrimination\n",
      "but fuck it lifes handin you lemons make lemonade then!\n",
      "but if i cant batter the women\n",
      "how the fuck am i supposed to bake them a cake then\n",
      "dont mistake him for satan; its a fatal mistake\n",
      "if you think i need to be overseas and take a vacation\n",
      "to trip a broad and make her fall on her face and\n",
      "dont be a retard! be a king think not\n",
      "why be a king when you can be a god\n",
      "\n",
      "\n",
      "\n",
      "\n",
      "\n",
      "more on genius\n",
      "\n",
      "\n",
      "\n",
      "eminem says he doesn’t have the rage he did when making ‘the marshall mathers lp’\n",
      "\n",
      "\n",
      "\n",
      "\n",
      "\n",
      "eminems fastest raps\n",
      "\n",
      "\n",
      "\n",
      "\n",
      "\n",
      "looking back at eminems rap god\n",
      "\n",
      "\n",
      "\n",
      "\n",
      "\n"
     ]
    }
   ],
   "source": [
    "print(rap_god.lyrics)"
   ]
  },
  {
   "cell_type": "code",
   "execution_count": 105,
   "metadata": {},
   "outputs": [],
   "source": [
    "xpath = '/html/body/apple-music-player/div/div/div[2]/playback-time[2]/div'"
   ]
  },
  {
   "cell_type": "code",
   "execution_count": 106,
   "metadata": {},
   "outputs": [],
   "source": [
    "# This didn't get me anywhere.\n",
    "# But the duration should live in this little player!\n",
    "music_player = driver.find_elements_by_xpath(xpath)\n",
    "\n",
    "for elem in music_player:\n",
    "    print(elem.text)"
   ]
  },
  {
   "cell_type": "code",
   "execution_count": 107,
   "metadata": {
    "scrolled": true
   },
   "outputs": [
    {
     "data": {
      "text/plain": [
       "[]"
      ]
     },
     "execution_count": 107,
     "metadata": {},
     "output_type": "execute_result"
    }
   ],
   "source": [
    "music_player"
   ]
  },
  {
   "cell_type": "code",
   "execution_count": 118,
   "metadata": {},
   "outputs": [
    {
     "ename": "AttributeError",
     "evalue": "'WebDriver' object has no attribute 'switchto'",
     "output_type": "error",
     "traceback": [
      "\u001b[0;31m---------------------------------------------------------------------------\u001b[0m",
      "\u001b[0;31mAttributeError\u001b[0m                            Traceback (most recent call last)",
      "\u001b[0;32m<ipython-input-118-89f56823b546>\u001b[0m in \u001b[0;36m<module>\u001b[0;34m\u001b[0m\n\u001b[0;32m----> 1\u001b[0;31m \u001b[0mdriver\u001b[0m\u001b[0;34m.\u001b[0m\u001b[0mswitchto\u001b[0m\u001b[0;34m.\u001b[0m\u001b[0mframe\u001b[0m\u001b[0;34m(\u001b[0m\u001b[0;34m'apple_music_player'\u001b[0m\u001b[0;34m)\u001b[0m\u001b[0;34m\u001b[0m\u001b[0;34m\u001b[0m\u001b[0m\n\u001b[0m",
      "\u001b[0;31mAttributeError\u001b[0m: 'WebDriver' object has no attribute 'switchto'"
     ]
    }
   ],
   "source": [
    "driver.switch_to.frame('apple_music_player')"
   ]
  },
  {
   "cell_type": "code",
   "execution_count": 108,
   "metadata": {},
   "outputs": [],
   "source": [
    "html = driver.page_source\n",
    "soup = BeautifulSoup(html)"
   ]
  },
  {
   "cell_type": "code",
   "execution_count": 109,
   "metadata": {},
   "outputs": [
    {
     "data": {
      "text/plain": [
       "[]"
      ]
     },
     "execution_count": 109,
     "metadata": {},
     "output_type": "execute_result"
    }
   ],
   "source": [
    "soup.find_all('apple-music-player')"
   ]
  },
  {
   "cell_type": "code",
   "execution_count": null,
   "metadata": {},
   "outputs": [],
   "source": [
    "/html/body/routable-page/ng-outlet/song-page/div/apple-music-player/div/div/iframe"
   ]
  }
 ],
 "metadata": {
  "kernelspec": {
   "display_name": "Python 3",
   "language": "python",
   "name": "python3"
  },
  "language_info": {
   "codemirror_mode": {
    "name": "ipython",
    "version": 3
   },
   "file_extension": ".py",
   "mimetype": "text/x-python",
   "name": "python",
   "nbconvert_exporter": "python",
   "pygments_lexer": "ipython3",
   "version": "3.7.2"
  }
 },
 "nbformat": 4,
 "nbformat_minor": 2
}
