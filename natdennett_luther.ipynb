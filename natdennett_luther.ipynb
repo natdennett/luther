{
 "cells": [
  {
   "cell_type": "code",
   "execution_count": 14,
   "metadata": {},
   "outputs": [],
   "source": [
    "import re\n",
    "import requests\n",
    "from bs4 import BeautifulSoup\n",
    "import pandas as pd\n",
    "from selenium import webdriver\n",
    "from selenium.webdriver.common.keys import Keys\n",
    "import time\n",
    "from collections import namedtuple\n",
    "from collections import defaultdict\n",
    "import os\n",
    "import pickle\n",
    "from time import time, sleep\n",
    "import random\n",
    "import csv\n",
    "import numpy as np\n",
    "\n",
    "from sklearn.linear_model import LinearRegression\n",
    "from sklearn.model_selection import train_test_split\n",
    "import seaborn as sns\n",
    "import matplotlib.pyplot as plt\n",
    "%matplotlib inline\n",
    "\n",
    "from sklearn.preprocessing import StandardScaler, PolynomialFeatures\n",
    "from sklearn.linear_model import LinearRegression, Lasso, LassoCV, Ridge, RidgeCV\n",
    "from sklearn.metrics import r2_score\n",
    "\n",
    "import statsmodels.api as sm\n",
    "import statsmodels.formula.api as smf\n",
    "import patsy"
   ]
  },
  {
   "cell_type": "code",
   "execution_count": 2,
   "metadata": {},
   "outputs": [],
   "source": [
    "# Define the Song data structure\n",
    "# Remember: namedtuples require that you plug in \n",
    "# every data type.\n",
    "\n",
    "Song = namedtuple('Song', ['header', 'verified', 'metadata', 'lyrics'])"
   ]
  },
  {
   "cell_type": "code",
   "execution_count": 3,
   "metadata": {},
   "outputs": [],
   "source": [
    "\n",
    "def start_driver(url):\n",
    "\n",
    "    \"\"\"This function will open a Chrome browser at the given url.\n",
    "    Input: a valid URL as a string.\n",
    "    Doesn't return anything, but creates a global variable *driver*\n",
    "    that can be called upon elsewhere.\"\"\"\n",
    "    \n",
    "    # path to the chromedriver executable\n",
    "    \n",
    "    chromedriver = \"/Applications/chromedriver\"\n",
    "    os.environ[\"webdriver.chrome.driver\"] = chromedriver\n",
    "\n",
    "    # Using the global keyword so that we can call upon the driver\n",
    "    # further down in the code.\n",
    "    \n",
    "    global driver \n",
    "    driver = webdriver.Chrome(chromedriver)\n",
    "\n",
    "    driver.get(url)"
   ]
  },
  {
   "cell_type": "code",
   "execution_count": 4,
   "metadata": {},
   "outputs": [],
   "source": [
    "# Start by opening the all rap songs page.\n",
    "\n",
    "all_rap_songs_genius = \"https://genius.com/tags/rap/all\"\n",
    "start_driver(all_rap_songs_genius)"
   ]
  },
  {
   "cell_type": "code",
   "execution_count": 40,
   "metadata": {},
   "outputs": [],
   "source": [
    "# Use Selenium to scroll down to the bottom of the screen\n",
    "# This only works if you manually focus on the Chrome browser.\n",
    "# You may have to run this cell multiple times \n",
    "# before it gets you all the way to the bottom of the screen\n",
    "\n",
    "for i in range (10):\n",
    "    driver.execute_script(\"window.scrollTo(0, document.body.scrollHeight);\")\n",
    "    sleep(1)"
   ]
  },
  {
   "cell_type": "code",
   "execution_count": 41,
   "metadata": {},
   "outputs": [],
   "source": [
    "# This code snippet is there to grab links to songs\n",
    "# on the https://genius.com/tags/rap/all page.\n",
    "# It appears that 1000 is the most search results\n",
    "# that genius.com will display at one time.\n",
    "\n",
    "\n",
    "link_selector = '//a[@class= \" song_link\"]'\n",
    "top_songs = driver.find_elements_by_xpath(link_selector)\n",
    "\n",
    "\n",
    "link_list = []\n",
    "\n",
    "for elem in top_songs:\n",
    "    link_list.append(elem.get_attribute('href'))"
   ]
  },
  {
   "cell_type": "code",
   "execution_count": 44,
   "metadata": {},
   "outputs": [],
   "source": [
    "# I save the list of links as a pickle.\n",
    "# That way, I don't have to do this again.\n",
    "\n",
    "with open('links.pkl', 'wb') as link_pickle:\n",
    "    pickle.dump(link_list,link_pickle)"
   ]
  },
  {
   "cell_type": "code",
   "execution_count": 3,
   "metadata": {},
   "outputs": [],
   "source": [
    "# If I pick up again I can just pull from the pickle\n",
    "\n",
    "with open('links.pkl', 'rb') as link_pickle:\n",
    "    link_list = pickle.load(link_pickle)"
   ]
  },
  {
   "cell_type": "code",
   "execution_count": 4,
   "metadata": {},
   "outputs": [],
   "source": [
    "def scrape_info(list_of_urls):\n",
    "    \n",
    "    \"\"\"This function uses the Chrome driver to visit \n",
    "    every page on a list of Genius links,\n",
    "    and gathers the info I want to analyze.\n",
    "    Input needs to be:\n",
    "    a list of links to Genius pages, otherwise it won't work. \n",
    "    Output will be:\n",
    "    a dict of named tuples of the Song format.\"\"\"\n",
    "\n",
    "    dict_of_songs = defaultdict(Song)\n",
    "\n",
    "    for i, url in enumerate(list_of_urls):\n",
    "        driver.get(url)\n",
    "        driver.execute_script(\n",
    "            \"window.scrollTo(0, document.body.scrollHeight);\")\n",
    "        sleep(.5+2*random.random())\n",
    "\n",
    "        # Gather and filter metadata\n",
    "\n",
    "        views_regex = re.compile('views', re.IGNORECASE)\n",
    "        contrib_regex = re.compile('contributors', re.IGNORECASE)\n",
    "        tag_regex = re.compile('(\\w+,\\s\\w+)+')\n",
    "\n",
    "        all_metadata = driver.find_elements_by_class_name('metadata_with_icon')\n",
    "\n",
    "        filtered_metadata = [metadata.text for metadata in all_metadata\n",
    "                             if re.search(views_regex, metadata.text)\n",
    "                             or re.search(contrib_regex, metadata.text)\n",
    "                             or re.search(tag_regex, metadata.text)]\n",
    "\n",
    "        # Scrape raw lyrics\n",
    "\n",
    "        lyrics_string = ''\n",
    "\n",
    "        lyrics = driver.find_elements_by_class_name('song_body-lyrics')\n",
    "        for lyric in lyrics:\n",
    "            lyrics_string += lyric.text\n",
    "\n",
    "        # Scrape header\n",
    "\n",
    "        header_string = driver.find_element_by_class_name(\n",
    "            'header_with_cover_art-primary_info').text\n",
    "\n",
    "        # Determine whether artist has contributed to their song page\n",
    "\n",
    "        try:\n",
    "            ver_art = driver.find_element_by_class_name(\n",
    "                'song_verified_artists-section')\n",
    "            verified_bool = True\n",
    "        except:\n",
    "            verified_bool = False\n",
    "            \n",
    "        # Create Song named tuple and add to dictionary\n",
    "\n",
    "        dict_of_songs[url] = Song(header=header_string, lyrics=lyrics_string,\n",
    "                                  verified=verified_bool, metadata=filtered_metadata)\n",
    "        if (i+1 % 100 == 0):\n",
    "            time.sleep(320)\n",
    "\n",
    "    return dict_of_songs"
   ]
  },
  {
   "cell_type": "code",
   "execution_count": 19,
   "metadata": {},
   "outputs": [],
   "source": [
    "# Pickling the song dict\n",
    "with open('songs_dict.pkl', 'wb') as song_file:\n",
    "    pickle.dump(song_dict, song_file)"
   ]
  },
  {
   "cell_type": "code",
   "execution_count": 5,
   "metadata": {},
   "outputs": [],
   "source": [
    "# Unpickling the song dict\n",
    "with open('songs_dict.pkl', 'rb') as song_file:\n",
    "    song_dict = pickle.load(song_file)"
   ]
  },
  {
   "cell_type": "code",
   "execution_count": 6,
   "metadata": {},
   "outputs": [],
   "source": [
    "def clean_lyrics(raw_lyrics):\n",
    "    \n",
    "    # This code snippet removes the header\n",
    "\n",
    "    header_regex = re.compile('^.+\\n')\n",
    "        \n",
    "    # This code removes the footer\n",
    "\n",
    "    footer_regex = re.compile('\\d+ Embed.+', re.DOTALL)\n",
    "    \n",
    "    # This should remove the little snippets in brackets\n",
    "\n",
    "    bracket_regex = re.compile(r'\\[.+\\]')\n",
    "    \n",
    "    # This should remove the special characters that creep in\n",
    "    \n",
    "    character_regex = re.compile(r'''[\\(\\)\\'\\\"\\!\\?]''')\n",
    "    \n",
    "    cleaned_lyrics = re.sub(footer_regex, '', raw_lyrics)\n",
    "    cleaned_lyrics = re.sub(header_regex, '', cleaned_lyrics)\n",
    "    cleaned_lyrics = re.sub(bracket_regex, '', cleaned_lyrics)\n",
    "    cleaned_lyrics = re.sub(character_regex, '', cleaned_lyrics)\n",
    "    \n",
    "    return cleaned_lyrics.lower()"
   ]
  },
  {
   "cell_type": "code",
   "execution_count": 7,
   "metadata": {},
   "outputs": [],
   "source": [
    "def list_to_regex(list_of_words):\n",
    "    \n",
    "    full_string = list_of_words[0]\n",
    "    for word in list_of_words[1:]:\n",
    "        new_word = '|' + word\n",
    "        full_string += new_word\n",
    "    return re.compile(full_string)"
   ]
  },
  {
   "cell_type": "code",
   "execution_count": 89,
   "metadata": {},
   "outputs": [],
   "source": [
    "def load_semantic_fields(path):\n",
    "    # semantic fields\n",
    "    fields = []\n",
    "    with open(path) as csv_file:\n",
    "        dict_reader = csv.reader(csv_file, delimiter=',')\n",
    "        for row in dict_reader:\n",
    "            fields.append(row)\n",
    "    \n",
    "    global religion_regex, curse_regex, clothes_regex, cars_regex, foreign_sem_field\n",
    "\n",
    "    religion_regex = list_to_regex(fields[0])\n",
    "    curse_regex = list_to_regex(fields[1])\n",
    "    clothes_regex = list_to_regex(fields[2])\n",
    "    cars_regex = list_to_regex(fields[3])\n",
    "    \n",
    "    # names of tags I want to filter out\n",
    "    foreign_sem_field = set(fields[4])\n",
    "\n",
    "load_semantic_fields('semantic_fields.csv')\n",
    "gucci_regex = re.compile('gucci')\n",
    "fendi_regex = re.compile('fendi')\n",
    "prada_regex = re.compile('prada')\n",
    "vuitton_regex = re.compile('louis vuitton|louis|vuitton')\n",
    "dior_regex = re.compile('dior')\n",
    "chanel_regex = re.compile('chanel')\n",
    "balenciaga_regex = re.compile('balenciaga')\n",
    "louboutin_regex = re.compile('christian louboutin|louboutin')\n",
    "givenchy_regex = re.compile('givenchy')\n",
    "versace_regex = re.compile('versace')"
   ]
  },
  {
   "cell_type": "code",
   "execution_count": 108,
   "metadata": {},
   "outputs": [],
   "source": [
    "def process_songs(dict_of_songs):\n",
    "    \n",
    "    \"\"\"This function takes a dictionary of Song named tuples\n",
    "    and returns a list of dictionaries with just the numerical and categorical info\n",
    "    for each song which to be used in the dataframe.\"\"\"\n",
    "\n",
    "    dict_list = []\n",
    "\n",
    "    for link in dict_of_songs:\n",
    "        song = dict_of_songs[link]\n",
    "\n",
    "        info_dict = {'title': '',\n",
    "                     'artist': '',\n",
    "                     'words': 0,\n",
    "                     'views': 0,\n",
    "                     'contrib': 0,\n",
    "                     'tags': '',\n",
    "                     'religion': 0,\n",
    "                     'curse': 0,\n",
    "                     'clothes': 0,\n",
    "                     'cars': 0,\n",
    "                     'producer': '',\n",
    "                     'gucci': 0,\n",
    "                     'fendi': 0,\n",
    "                     'prada': 0,\n",
    "                     'vuitton': 0,\n",
    "                     'dior': 0,\n",
    "                     'chanel': 0,\n",
    "                     'balenciaga': 0,\n",
    "                     'louboutin': 0,\n",
    "                     'givenchy': 0,\n",
    "                     'versace': 0,\n",
    "                     'rnb': 0,\n",
    "                     'trap': 0,\n",
    "                     'broadway': 0,\n",
    "                     'pop': 0,\n",
    "                     'country': 0,\n",
    "                     'verified': None}\n",
    "\n",
    "        if song.verified:\n",
    "            info_dict['verified'] = 1\n",
    "        else:\n",
    "            info_dict['verified'] = 0\n",
    "        \n",
    "        lyrics = clean_lyrics(song.lyrics)\n",
    "        word_list = lyrics.split()\n",
    "        song_length = len(word_list)\n",
    "        info_dict['words'] = song_length\n",
    "        \n",
    "        info_dict['religion'] = len(re.findall(religion_regex,lyrics)) / song_length\n",
    "        info_dict['curse'] = len(re.findall(curse_regex,lyrics)) / song_length\n",
    "        info_dict['clothes'] = len(re.findall(clothes_regex,lyrics)) / song_length\n",
    "        info_dict['cars'] = len(re.findall(cars_regex,lyrics)) / song_length\n",
    "        \n",
    "        # Break down by brand name\n",
    "        \n",
    "        info_dict['gucci'] = len(re.findall(gucci_regex,lyrics)) / song_length\n",
    "        info_dict['fendi'] = len(re.findall(fendi_regex,lyrics)) / song_length\n",
    "        info_dict['prada'] = len(re.findall(prada_regex,lyrics)) / song_length\n",
    "        info_dict['vuitton'] = len(re.findall(vuitton_regex,lyrics)) / song_length\n",
    "        info_dict['dior'] = len(re.findall(dior_regex,lyrics)) / song_length\n",
    "        info_dict['chanel'] = len(re.findall(chanel_regex,lyrics)) / song_length\n",
    "        info_dict['balenciaga'] = len(re.findall(balenciaga_regex,lyrics)) / song_length\n",
    "        info_dict['louboutin'] = len(re.findall(louboutin_regex,lyrics)) / song_length\n",
    "        info_dict['givenchy'] = len(re.findall(givenchy_regex,lyrics)) / song_length\n",
    "        info_dict['versace'] = len(re.findall(versace_regex,lyrics)) / song_length\n",
    "        \n",
    "        # This should extract the number of views from the metadata\n",
    "\n",
    "        info_dict['views'] = int(song.metadata[0].split()[0].replace(',', ''))\n",
    "        \n",
    "        # This should extract the number of contributors from the metadata\n",
    "\n",
    "        info_dict['contrib'] = int(song.metadata[1].split()[0].replace(',', ''))\n",
    "        \n",
    "        # This should get the tags\n",
    "        \n",
    "        try:\n",
    "            info_dict['tags'] = song.metadata[2]\n",
    "            if 'Country' in song.metadata[2]:\n",
    "                info_dict['country'] = 1\n",
    "            if 'Pop' in song.metadata[2]:\n",
    "                info_dict['pop'] = 1\n",
    "            if 'Broadway' in song.metadata[2]:\n",
    "                info_dict['broadway'] = 1        \n",
    "            if 'R&B' in song.metadata[2]:\n",
    "                info_dict['rnb'] = 1\n",
    "            if 'Trap' in song.metadata[2]:\n",
    "                info_dict['trap'] = 1\n",
    "        except:\n",
    "            info_dict['tags'] = ''\n",
    "\n",
    "        # This should get the title from the header\n",
    "\n",
    "        info_dict['title'] = song.header.split('\\n')[0]\n",
    "\n",
    "        # This should get the artist name from the header\n",
    "\n",
    "        info_dict['artist'] = song.header.split('\\n')[1]\n",
    "\n",
    "        # This should get the producer name from the header\n",
    "        # If there is no producer, this should be None.\n",
    "\n",
    "        producer_regex = re.compile('Produced by (.+)')\n",
    "        try:\n",
    "            info_dict['producer'] = re.match(producer_regex, song.header.split('\\n')[2]).group(1)\n",
    "        except:\n",
    "            info_dict['producer'] = ''\n",
    "        \n",
    "        dict_list.append(info_dict)\n",
    "\n",
    "        \n",
    "    return dict_list"
   ]
  },
  {
   "cell_type": "code",
   "execution_count": 10,
   "metadata": {},
   "outputs": [],
   "source": [
    "def foreign_to_nan(tags):\n",
    "    \n",
    "    \"\"\"I use this to filter out songs that are in a foreign language.\n",
    "    \"\"\"\n",
    "    \n",
    "    if not tags:\n",
    "        return tags\n",
    "    for tag in tags.split(', '):\n",
    "        if tag in foreign_sem_field:\n",
    "            return np.nan\n",
    "    return tags\n"
   ]
  },
  {
   "cell_type": "code",
   "execution_count": 109,
   "metadata": {},
   "outputs": [],
   "source": [
    "# Run this cell after you've run all the function cells,\n",
    "# and after you've unpickled the song_dict.\n",
    "# This will initialize the dataframe.\n",
    "\n",
    "dl = process_songs(song_dict)\n",
    "\n",
    "df = pd.DataFrame(dl)\n",
    "\n",
    "# Removing the songs in foreign languages\n",
    "\n",
    "df['tags'] = df.tags.apply(lambda x: foreign_to_nan(x))\n",
    "\n",
    "df = df.dropna(axis = 0, how = 'any')\n",
    "\n",
    "# Adding a column where I produce a log \n",
    "\n",
    "df['logviews'] = np.log2(df['views'])\n",
    "\n",
    "\n",
    "# Removing the very top changes the results significantly\n",
    "\n",
    "mask = df['views'] > 5000000\n",
    "\n",
    "df = df.drop(df[mask].index, axis = 0)"
   ]
  },
  {
   "cell_type": "code",
   "execution_count": 77,
   "metadata": {},
   "outputs": [],
   "source": [
    "curse_mask = df['curse'] == 0"
   ]
  },
  {
   "cell_type": "code",
   "execution_count": 79,
   "metadata": {},
   "outputs": [
    {
     "data": {
      "text/plain": [
       "79"
      ]
     },
     "execution_count": 79,
     "metadata": {},
     "output_type": "execute_result"
    }
   ],
   "source": [
    "# Only 79 songs in the top 1000 \n",
    "# register a zero on my \"curse\" feature\n",
    "\n",
    "len(df[curse_mask])"
   ]
  },
  {
   "cell_type": "code",
   "execution_count": 65,
   "metadata": {},
   "outputs": [
    {
     "data": {
      "text/plain": [
       "Lasso(alpha=10000, copy_X=True, fit_intercept=True, max_iter=1000,\n",
       "   normalize=False, positive=False, precompute=False, random_state=None,\n",
       "   selection='cyclic', tol=0.0001, warm_start=False)"
      ]
     },
     "execution_count": 65,
     "metadata": {},
     "output_type": "execute_result"
    }
   ],
   "source": [
    "X = df[['cars', 'clothes', 'curse', 'religion', 'verified','contrib']]\n",
    "y = df['views']\n",
    "\n",
    "selected_columns = ['cars', 'clothes', 'curse', 'religion', 'verified','contrib']\n",
    "\n",
    "X_train_val, X_test, y_train_val, y_test = train_test_split(X, y, test_size=0.2,random_state=42)\n",
    "X_train, X_val, y_train, y_val = train_test_split(X_train_val, y_train_val, test_size=.25, random_state=43)\n",
    "\n",
    "lasso_model = Lasso(alpha = 10000)\n",
    "lasso_model.fit(X_train, y_train)"
   ]
  },
  {
   "cell_type": "code",
   "execution_count": 66,
   "metadata": {
    "scrolled": false
   },
   "outputs": [
    {
     "data": {
      "text/plain": [
       "[('cars', 0.0),\n",
       " ('clothes', 0.0),\n",
       " ('curse', 0.0),\n",
       " ('religion', -0.0),\n",
       " ('verified', 142064.64333021909),\n",
       " ('contrib', 4258.42421070833)]"
      ]
     },
     "execution_count": 66,
     "metadata": {},
     "output_type": "execute_result"
    }
   ],
   "source": [
    "list(zip(X_train.columns, lasso_model.coef_))"
   ]
  },
  {
   "cell_type": "code",
   "execution_count": 64,
   "metadata": {
    "scrolled": false
   },
   "outputs": [
    {
     "data": {
      "text/plain": [
       "[('cars', 6.846882651648663e-09),\n",
       " ('clothes', 1.2752144079808247e-07),\n",
       " ('curse', 1.1787976794590849e-07),\n",
       " ('religion', 1.560132129736913e-07),\n",
       " ('verified', 4.140175110294922e-05),\n",
       " ('contrib', 0.02468596145883492)]"
      ]
     },
     "execution_count": 64,
     "metadata": {},
     "output_type": "execute_result"
    }
   ],
   "source": [
    "lr_model_ridge = Ridge(alpha = 1000000000000)\n",
    "lr_model_ridge.fit(X_train, y_train)\n",
    "\n",
    "list(zip(X_train.columns, lr_model_ridge.coef_))"
   ]
  },
  {
   "cell_type": "code",
   "execution_count": 67,
   "metadata": {
    "scrolled": false
   },
   "outputs": [
    {
     "data": {
      "text/plain": [
       "[<matplotlib.lines.Line2D at 0x1c1ee1b2b0>]"
      ]
     },
     "execution_count": 67,
     "metadata": {},
     "output_type": "execute_result"
    },
    {
     "data": {
      "image/png": "[encoded data removed]",
      "text/plain": [
       "<Figure size 432x288 with 1 Axes>"
      ]
     },
     "metadata": {
      "needs_background": "light"
     },
     "output_type": "display_data"
    }
   ],
   "source": [
    "test_set_pred = lasso_model.predict(X_test.loc[:,selected_columns])\n",
    "\n",
    "plt.scatter(test_set_pred, y_test, alpha=.1)\n",
    "plt.plot(np.linspace(0,6000000,1000), np.linspace(0,6000000,1000))"
   ]
  },
  {
   "cell_type": "code",
   "execution_count": 68,
   "metadata": {},
   "outputs": [
    {
     "data": {
      "text/plain": [
       "514798.8895829625"
      ]
     },
     "execution_count": 68,
     "metadata": {},
     "output_type": "execute_result"
    }
   ],
   "source": [
    "#Mean Absolute Error (MAE)\n",
    "def mae(y_true, y_pred):\n",
    "    return np.mean(np.abs(y_pred - y_true)) \n",
    "\n",
    "mae(y_test, test_set_pred)"
   ]
  },
  {
   "cell_type": "code",
   "execution_count": 40,
   "metadata": {},
   "outputs": [
    {
     "data": {
      "text/plain": [
       "0.17895077968924689"
      ]
     },
     "execution_count": 40,
     "metadata": {},
     "output_type": "execute_result"
    }
   ],
   "source": [
    "r2_score(y_test, test_set_pred)"
   ]
  },
  {
   "cell_type": "code",
   "execution_count": 47,
   "metadata": {},
   "outputs": [],
   "source": [
    "from sklearn.pipeline import Pipeline\n",
    "from sklearn.preprocessing import StandardScaler"
   ]
  },
  {
   "cell_type": "code",
   "execution_count": 69,
   "metadata": {},
   "outputs": [
    {
     "data": {
      "text/plain": [
       "StandardScaler(copy=True, with_mean=True, with_std=True)"
      ]
     },
     "execution_count": 69,
     "metadata": {},
     "output_type": "execute_result"
    }
   ],
   "source": [
    "## This step fits the Standard Scaler to the training data\n",
    "## Essentially it finds the mean and standard deviation of each variable in the training set\n",
    "\n",
    "std = StandardScaler()\n",
    "std.fit(X_train.values)"
   ]
  },
  {
   "cell_type": "code",
   "execution_count": 95,
   "metadata": {},
   "outputs": [
    {
     "data": {
      "text/plain": [
       "(array([549.,  11.,   2.,   0.,   2.,   2.,   0.,   0.,   0.,   1.]),\n",
       " array([-0.14389467,  1.4267291 ,  2.99735287,  4.56797664,  6.13860041,\n",
       "         7.70922418,  9.27984795, 10.85047172, 12.42109549, 13.99171926,\n",
       "        15.56234302]),\n",
       " <a list of 10 Patch objects>)"
      ]
     },
     "execution_count": 95,
     "metadata": {},
     "output_type": "execute_result"
    },
    {
     "data": {
      "image/png": "[encoded data removed]",
      "text/plain": [
       "<Figure size 432x288 with 1 Axes>"
      ]
     },
     "metadata": {
      "needs_background": "light"
     },
     "output_type": "display_data"
    }
   ],
   "source": [
    "## This step applies the scaler to the train set.\n",
    "## It subtracts the mean it learned in the previous step and then divides by the standard deviation\n",
    "\n",
    "X_tr = std.transform(X_train.values)\n",
    "\n",
    "## Apply the scaler to the test set\n",
    "\n",
    "X_te = std.transform(X_test.values)\n",
    "\n",
    "## Here we can plot histograms of the transformed variables\n",
    "## Note that they seem to have means of 0 and stddevs of 1\n",
    "## (though they are not necessarily normally distributed)\n",
    "\n",
    "plt.hist(X_tr[:,3])"
   ]
  },
  {
   "cell_type": "code",
   "execution_count": 73,
   "metadata": {},
   "outputs": [
    {
     "data": {
      "text/plain": [
       "Lasso(alpha=100, copy_X=True, fit_intercept=True, max_iter=1000,\n",
       "   normalize=False, positive=False, precompute=False, random_state=None,\n",
       "   selection='cyclic', tol=0.0001, warm_start=False)"
      ]
     },
     "execution_count": 73,
     "metadata": {},
     "output_type": "execute_result"
    }
   ],
   "source": [
    "## Fit a LASSO model on the standardized data\n",
    "\n",
    "lasso_model = Lasso(alpha = 100)\n",
    "lasso_model.fit(X_tr,y_train)\n",
    "\n",
    "## Note that now we can meaningfully compare the importance of\n",
    "## different features, since they're on the same scale\n",
    "\n",
    "## But it's now difficult to interpret the coefficients\n",
    "## We would need to translate back to the original feature scales by dividing\n",
    "## each coefficient by the original column's standard deviation\n",
    "\n",
    "list(zip(X_train.columns, lasso_model.coef_))"
   ]
  },
  {
   "cell_type": "code",
   "execution_count": 92,
   "metadata": {},
   "outputs": [
    {
     "data": {
      "text/plain": [
       "Lasso(alpha=10000, copy_X=True, fit_intercept=True, max_iter=1000,\n",
       "   normalize=False, positive=False, precompute=False, random_state=None,\n",
       "   selection='cyclic', tol=0.0001, warm_start=False)"
      ]
     },
     "execution_count": 92,
     "metadata": {},
     "output_type": "execute_result"
    }
   ],
   "source": [
    "X = df[['gucci', 'fendi','prada','vuitton','dior','chanel','balenciaga','louboutin','givenchy','versace']]\n",
    "y = df['views']\n",
    "\n",
    "selected_columns = ['gucci', 'fendi','prada','vuitton','dior','chanel','balenciaga','louboutin','givenchy','versace']\n",
    "\n",
    "X_train_val, X_test, y_train_val, y_test = train_test_split(X, y, test_size=0.2,random_state=42)\n",
    "X_train, X_val, y_train, y_val = train_test_split(X_train_val, y_train_val, test_size=.25, random_state=43)\n",
    "\n",
    "lasso_model = Lasso(alpha = 10000)\n",
    "lasso_model.fit(X_train, y_train)"
   ]
  },
  {
   "cell_type": "code",
   "execution_count": 93,
   "metadata": {
    "scrolled": false
   },
   "outputs": [
    {
     "data": {
      "text/plain": [
       "[('gucci', -0.0),\n",
       " ('fendi', -0.0),\n",
       " ('prada', -0.0),\n",
       " ('vuitton', -0.0),\n",
       " ('dior', -0.0),\n",
       " ('chanel', -0.0),\n",
       " ('balenciaga', 0.0),\n",
       " ('louboutin', -0.0),\n",
       " ('givenchy', 0.0),\n",
       " ('versace', 0.0)]"
      ]
     },
     "execution_count": 93,
     "metadata": {},
     "output_type": "execute_result"
    }
   ],
   "source": [
    "list(zip(X_train.columns, lasso_model.coef_))"
   ]
  },
  {
   "cell_type": "code",
   "execution_count": 94,
   "metadata": {},
   "outputs": [
    {
     "data": {
      "text/plain": [
       "StandardScaler(copy=True, with_mean=True, with_std=True)"
      ]
     },
     "execution_count": 94,
     "metadata": {},
     "output_type": "execute_result"
    }
   ],
   "source": [
    "## This step fits the Standard Scaler to the training data\n",
    "## Essentially it finds the mean and standard deviation of each variable in the training set\n",
    "\n",
    "std = StandardScaler()\n",
    "std.fit(X_train.values)"
   ]
  },
  {
   "cell_type": "code",
   "execution_count": 96,
   "metadata": {},
   "outputs": [
    {
     "data": {
      "text/plain": [
       "(array([549.,  11.,   2.,   0.,   2.,   2.,   0.,   0.,   0.,   1.]),\n",
       " array([-0.14389467,  1.4267291 ,  2.99735287,  4.56797664,  6.13860041,\n",
       "         7.70922418,  9.27984795, 10.85047172, 12.42109549, 13.99171926,\n",
       "        15.56234302]),\n",
       " <a list of 10 Patch objects>)"
      ]
     },
     "execution_count": 96,
     "metadata": {},
     "output_type": "execute_result"
    },
    {
     "data": {
      "image/png": "[encoded data removed]",
      "text/plain": [
       "<Figure size 432x288 with 1 Axes>"
      ]
     },
     "metadata": {
      "needs_background": "light"
     },
     "output_type": "display_data"
    }
   ],
   "source": [
    "## This step applies the scaler to the train set.\n",
    "## It subtracts the mean it learned in the previous step and then divides by the standard deviation\n",
    "\n",
    "X_tr = std.transform(X_train.values)\n",
    "\n",
    "## Apply the scaler to the test set\n",
    "\n",
    "X_te = std.transform(X_test.values)\n",
    "\n",
    "## Here we can plot histograms of the transformed variables\n",
    "## Note that they seem to have means of 0 and stddevs of 1\n",
    "## (though they are not necessarily normally distributed)\n",
    "\n",
    "plt.hist(X_tr[:,3])"
   ]
  },
  {
   "cell_type": "code",
   "execution_count": 99,
   "metadata": {},
   "outputs": [
    {
     "data": {
      "text/plain": [
       "[('gucci', -65621.5190814574),\n",
       " ('fendi', -12868.390831747358),\n",
       " ('prada', -2161.053972766374),\n",
       " ('vuitton', -38158.473254674915),\n",
       " ('dior', -24682.322179454008),\n",
       " ('chanel', 53136.92592255457),\n",
       " ('balenciaga', 0.0),\n",
       " ('louboutin', -11664.803970684416),\n",
       " ('givenchy', 34388.119565194946),\n",
       " ('versace', 57244.57866763576)]"
      ]
     },
     "execution_count": 99,
     "metadata": {},
     "output_type": "execute_result"
    }
   ],
   "source": [
    "## Fit a LASSO model on the standardized data\n",
    "\n",
    "lasso_model = Lasso(alpha = 100)\n",
    "lasso_model.fit(X_tr,y_train)\n",
    "\n",
    "## Note that now we can meaningfully compare the importance of\n",
    "## different features, since they're on the same scale\n",
    "\n",
    "## But it's now difficult to interpret the coefficients\n",
    "## We would need to translate back to the original feature scales by dividing\n",
    "## each coefficient by the original column's standard deviation\n",
    "\n",
    "list(zip(X_train.columns, lasso_model.coef_))"
   ]
  },
  {
   "cell_type": "code",
   "execution_count": 107,
   "metadata": {
    "scrolled": true
   },
   "outputs": [
    {
     "data": {
      "image/png": "[encoded data removed]",
      "text/plain": [
       "<Figure size 640x480 with 1 Axes>"
      ]
     },
     "metadata": {},
     "output_type": "display_data"
    }
   ],
   "source": [
    "import matplotlib.pyplot as plt\n",
    "import numpy as np\n",
    "\n",
    "# Fixing random state for reproducibility\n",
    "np.random.seed(19680801)\n",
    "\n",
    "\n",
    "plt.rcdefaults()\n",
    "fig, ax = plt.subplots()\n",
    "\n",
    "# Example data\n",
    "people = X_train.columns\n",
    "y_pos = np.arange(len(people))\n",
    "performance = lasso_model.coef_\n",
    "\n",
    "ax.barh(y_pos, performance, align='center',\n",
    "        color='green')\n",
    "ax.set_yticks(y_pos)\n",
    "ax.set_yticklabels(people)\n",
    "ax.invert_yaxis()  # labels read top-to-bottom\n",
    "ax.set_xlabel('Regularized coefficient')\n",
    "ax.set_title('Does name-dropping this brand help or hurt your song?')\n",
    "\n",
    "plt.show()"
   ]
  },
  {
   "cell_type": "code",
   "execution_count": 110,
   "metadata": {},
   "outputs": [
    {
     "data": {
      "text/plain": [
       "Lasso(alpha=10000, copy_X=True, fit_intercept=True, max_iter=1000,\n",
       "   normalize=False, positive=False, precompute=False, random_state=None,\n",
       "   selection='cyclic', tol=0.0001, warm_start=False)"
      ]
     },
     "execution_count": 110,
     "metadata": {},
     "output_type": "execute_result"
    }
   ],
   "source": [
    "X = df[['country','pop','trap','rnb','broadway']]\n",
    "y = df['views']\n",
    "\n",
    "selected_columns = ['country','pop','trap','rnb','broadway']\n",
    "\n",
    "X_train_val, X_test, y_train_val, y_test = train_test_split(X, y, test_size=0.2,random_state=42)\n",
    "X_train, X_val, y_train, y_val = train_test_split(X_train_val, y_train_val, test_size=.25, random_state=43)\n",
    "\n",
    "lasso_model = Lasso(alpha = 10000)\n",
    "lasso_model.fit(X_train, y_train)"
   ]
  },
  {
   "cell_type": "code",
   "execution_count": 111,
   "metadata": {
    "scrolled": false
   },
   "outputs": [
    {
     "data": {
      "text/plain": [
       "[('country', -0.0),\n",
       " ('pop', 164856.55154059827),\n",
       " ('trap', 136969.28456498892),\n",
       " ('rnb', -54076.93851035074),\n",
       " ('broadway', 0.0)]"
      ]
     },
     "execution_count": 111,
     "metadata": {},
     "output_type": "execute_result"
    }
   ],
   "source": [
    "list(zip(X_train.columns, lasso_model.coef_))"
   ]
  },
  {
   "cell_type": "code",
   "execution_count": 112,
   "metadata": {},
   "outputs": [
    {
     "name": "stderr",
     "output_type": "stream",
     "text": [
      "/anaconda3/lib/python3.7/site-packages/sklearn/utils/validation.py:595: DataConversionWarning: Data with input dtype int64 was converted to float64 by StandardScaler.\n",
      "  warnings.warn(msg, DataConversionWarning)\n"
     ]
    },
    {
     "data": {
      "text/plain": [
       "StandardScaler(copy=True, with_mean=True, with_std=True)"
      ]
     },
     "execution_count": 112,
     "metadata": {},
     "output_type": "execute_result"
    }
   ],
   "source": [
    "## This step fits the Standard Scaler to the training data\n",
    "## Essentially it finds the mean and standard deviation of each variable in the training set\n",
    "\n",
    "std = StandardScaler()\n",
    "std.fit(X_train.values)"
   ]
  },
  {
   "cell_type": "code",
   "execution_count": 113,
   "metadata": {},
   "outputs": [
    {
     "name": "stderr",
     "output_type": "stream",
     "text": [
      "/anaconda3/lib/python3.7/site-packages/sklearn/utils/validation.py:595: DataConversionWarning: Data with input dtype int64 was converted to float64 by StandardScaler.\n",
      "  warnings.warn(msg, DataConversionWarning)\n",
      "/anaconda3/lib/python3.7/site-packages/sklearn/utils/validation.py:595: DataConversionWarning: Data with input dtype int64 was converted to float64 by StandardScaler.\n",
      "  warnings.warn(msg, DataConversionWarning)\n"
     ]
    },
    {
     "data": {
      "text/plain": [
       "(array([470.,   0.,   0.,   0.,   0.,   0.,   0.,   0.,   0.,  97.]),\n",
       " array([-0.45429393, -0.18874274,  0.07680846,  0.34235966,  0.60791085,\n",
       "         0.87346205,  1.13901325,  1.40456444,  1.67011564,  1.93566684,\n",
       "         2.20121803]),\n",
       " <a list of 10 Patch objects>)"
      ]
     },
     "execution_count": 113,
     "metadata": {},
     "output_type": "execute_result"
    },
    {
     "data": {
      "image/png": "[encoded data removed]",
      "text/plain": [
       "<Figure size 640x480 with 1 Axes>"
      ]
     },
     "metadata": {},
     "output_type": "display_data"
    }
   ],
   "source": [
    "## This step applies the scaler to the train set.\n",
    "## It subtracts the mean it learned in the previous step and then divides by the standard deviation\n",
    "\n",
    "X_tr = std.transform(X_train.values)\n",
    "\n",
    "## Apply the scaler to the test set\n",
    "\n",
    "X_te = std.transform(X_test.values)\n",
    "\n",
    "## Here we can plot histograms of the transformed variables\n",
    "## Note that they seem to have means of 0 and stddevs of 1\n",
    "## (though they are not necessarily normally distributed)\n",
    "\n",
    "plt.hist(X_tr[:,3])"
   ]
  },
  {
   "cell_type": "code",
   "execution_count": 114,
   "metadata": {},
   "outputs": [
    {
     "data": {
      "text/plain": [
       "[('country', -41687.26539810794),\n",
       " ('pop', 95654.54826898393),\n",
       " ('trap', 83034.62247025533),\n",
       " ('rnb', -52712.060459196255),\n",
       " ('broadway', -1621.0761909823686)]"
      ]
     },
     "execution_count": 114,
     "metadata": {},
     "output_type": "execute_result"
    }
   ],
   "source": [
    "## Fit a LASSO model on the standardized data\n",
    "\n",
    "lasso_model = Lasso(alpha = 100)\n",
    "lasso_model.fit(X_tr,y_train)\n",
    "\n",
    "## Note that now we can meaningfully compare the importance of\n",
    "## different features, since they're on the same scale\n",
    "\n",
    "## But it's now difficult to interpret the coefficients\n",
    "## We would need to translate back to the original feature scales by dividing\n",
    "## each coefficient by the original column's standard deviation\n",
    "\n",
    "list(zip(X_train.columns, lasso_model.coef_))"
   ]
  },
  {
   "cell_type": "code",
   "execution_count": 116,
   "metadata": {},
   "outputs": [
    {
     "data": {
      "image/png": "[encoded data removed]",
      "text/plain": [
       "<Figure size 640x480 with 1 Axes>"
      ]
     },
     "metadata": {},
     "output_type": "display_data"
    }
   ],
   "source": [
    "import matplotlib.pyplot as plt\n",
    "import numpy as np\n",
    "\n",
    "# Fixing random state for reproducibility\n",
    "np.random.seed(19680801)\n",
    "\n",
    "\n",
    "plt.rcdefaults()\n",
    "fig, ax = plt.subplots()\n",
    "\n",
    "# Example data\n",
    "people = X_train.columns\n",
    "y_pos = np.arange(len(people))\n",
    "performance = lasso_model.coef_\n",
    "\n",
    "ax.barh(y_pos, performance, align='center',\n",
    "        color='green')\n",
    "ax.set_yticks(y_pos)\n",
    "ax.set_yticklabels(people)\n",
    "ax.invert_yaxis()  # labels read top-to-bottom\n",
    "ax.set_xlabel('Regularized coefficient')\n",
    "ax.set_title('Does this genre tend to get more views?')\n",
    "\n",
    "plt.show()"
   ]
  },
  {
   "cell_type": "code",
   "execution_count": 60,
   "metadata": {},
   "outputs": [],
   "source": [
    "# 28 songs above 5 million views\n",
    "\n",
    "# 26 foreign songs"
   ]
  },
  {
   "cell_type": "code",
   "execution_count": 76,
   "metadata": {
    "scrolled": true
   },
   "outputs": [
    {
     "data": {
      "text/html": [
       "<table class=\"simpletable\">\n",
       "<caption>OLS Regression Results</caption>\n",
       "<tr>\n",
       "  <th>Dep. Variable:</th>          <td>views</td>      <th>  R-squared:         </th> <td>   0.239</td> \n",
       "</tr>\n",
       "<tr>\n",
       "  <th>Model:</th>                   <td>OLS</td>       <th>  Adj. R-squared:    </th> <td>   0.234</td> \n",
       "</tr>\n",
       "<tr>\n",
       "  <th>Method:</th>             <td>Least Squares</td>  <th>  F-statistic:       </th> <td>   49.12</td> \n",
       "</tr>\n",
       "<tr>\n",
       "  <th>Date:</th>             <td>Thu, 18 Apr 2019</td> <th>  Prob (F-statistic):</th> <td>1.42e-52</td> \n",
       "</tr>\n",
       "<tr>\n",
       "  <th>Time:</th>                 <td>19:29:23</td>     <th>  Log-Likelihood:    </th> <td> -14106.</td> \n",
       "</tr>\n",
       "<tr>\n",
       "  <th>No. Observations:</th>      <td>   946</td>      <th>  AIC:               </th> <td>2.823e+04</td>\n",
       "</tr>\n",
       "<tr>\n",
       "  <th>Df Residuals:</th>          <td>   939</td>      <th>  BIC:               </th> <td>2.826e+04</td>\n",
       "</tr>\n",
       "<tr>\n",
       "  <th>Df Model:</th>              <td>     6</td>      <th>                     </th>     <td> </td>    \n",
       "</tr>\n",
       "<tr>\n",
       "  <th>Covariance Type:</th>      <td>nonrobust</td>    <th>                     </th>     <td> </td>    \n",
       "</tr>\n",
       "</table>\n",
       "<table class=\"simpletable\">\n",
       "<tr>\n",
       "      <td></td>         <th>coef</th>     <th>std err</th>      <th>t</th>      <th>P>|t|</th>  <th>[0.025</th>    <th>0.975]</th>  \n",
       "</tr>\n",
       "<tr>\n",
       "  <th>Intercept</th> <td>  6.63e+05</td> <td> 5.71e+04</td> <td>   11.603</td> <td> 0.000</td> <td> 5.51e+05</td> <td> 7.75e+05</td>\n",
       "</tr>\n",
       "<tr>\n",
       "  <th>cars</th>      <td> 5.795e+06</td> <td> 1.41e+07</td> <td>    0.411</td> <td> 0.681</td> <td>-2.19e+07</td> <td> 3.35e+07</td>\n",
       "</tr>\n",
       "<tr>\n",
       "  <th>clothes</th>   <td>  7.46e+06</td> <td>  3.5e+06</td> <td>    2.133</td> <td> 0.033</td> <td> 5.97e+05</td> <td> 1.43e+07</td>\n",
       "</tr>\n",
       "<tr>\n",
       "  <th>curse</th>     <td> 1.554e+05</td> <td>  1.1e+06</td> <td>    0.142</td> <td> 0.887</td> <td>   -2e+06</td> <td> 2.31e+06</td>\n",
       "</tr>\n",
       "<tr>\n",
       "  <th>religion</th>  <td>-1.439e+06</td> <td> 3.71e+06</td> <td>   -0.388</td> <td> 0.698</td> <td>-8.73e+06</td> <td> 5.85e+06</td>\n",
       "</tr>\n",
       "<tr>\n",
       "  <th>verified</th>  <td> 1.447e+05</td> <td> 4.99e+04</td> <td>    2.899</td> <td> 0.004</td> <td> 4.68e+04</td> <td> 2.43e+05</td>\n",
       "</tr>\n",
       "<tr>\n",
       "  <th>contrib</th>   <td> 3983.0314</td> <td>  247.714</td> <td>   16.079</td> <td> 0.000</td> <td> 3496.895</td> <td> 4469.168</td>\n",
       "</tr>\n",
       "</table>\n",
       "<table class=\"simpletable\">\n",
       "<tr>\n",
       "  <th>Omnibus:</th>       <td>208.979</td> <th>  Durbin-Watson:     </th> <td>   0.489</td>\n",
       "</tr>\n",
       "<tr>\n",
       "  <th>Prob(Omnibus):</th> <td> 0.000</td>  <th>  Jarque-Bera (JB):  </th> <td> 405.461</td>\n",
       "</tr>\n",
       "<tr>\n",
       "  <th>Skew:</th>          <td> 1.284</td>  <th>  Prob(JB):          </th> <td>9.02e-89</td>\n",
       "</tr>\n",
       "<tr>\n",
       "  <th>Kurtosis:</th>      <td> 4.923</td>  <th>  Cond. No.          </th> <td>1.22e+05</td>\n",
       "</tr>\n",
       "</table><br/><br/>Warnings:<br/>[1] Standard Errors assume that the covariance matrix of the errors is correctly specified.<br/>[2] The condition number is large, 1.22e+05. This might indicate that there are<br/>strong multicollinearity or other numerical problems."
      ],
      "text/plain": [
       "<class 'statsmodels.iolib.summary.Summary'>\n",
       "\"\"\"\n",
       "                            OLS Regression Results                            \n",
       "==============================================================================\n",
       "Dep. Variable:                  views   R-squared:                       0.239\n",
       "Model:                            OLS   Adj. R-squared:                  0.234\n",
       "Method:                 Least Squares   F-statistic:                     49.12\n",
       "Date:                Thu, 18 Apr 2019   Prob (F-statistic):           1.42e-52\n",
       "Time:                        19:29:23   Log-Likelihood:                -14106.\n",
       "No. Observations:                 946   AIC:                         2.823e+04\n",
       "Df Residuals:                     939   BIC:                         2.826e+04\n",
       "Df Model:                           6                                         \n",
       "Covariance Type:            nonrobust                                         \n",
       "==============================================================================\n",
       "                 coef    std err          t      P>|t|      [0.025      0.975]\n",
       "------------------------------------------------------------------------------\n",
       "Intercept    6.63e+05   5.71e+04     11.603      0.000    5.51e+05    7.75e+05\n",
       "cars        5.795e+06   1.41e+07      0.411      0.681   -2.19e+07    3.35e+07\n",
       "clothes      7.46e+06    3.5e+06      2.133      0.033    5.97e+05    1.43e+07\n",
       "curse       1.554e+05    1.1e+06      0.142      0.887      -2e+06    2.31e+06\n",
       "religion   -1.439e+06   3.71e+06     -0.388      0.698   -8.73e+06    5.85e+06\n",
       "verified    1.447e+05   4.99e+04      2.899      0.004    4.68e+04    2.43e+05\n",
       "contrib     3983.0314    247.714     16.079      0.000    3496.895    4469.168\n",
       "==============================================================================\n",
       "Omnibus:                      208.979   Durbin-Watson:                   0.489\n",
       "Prob(Omnibus):                  0.000   Jarque-Bera (JB):              405.461\n",
       "Skew:                           1.284   Prob(JB):                     9.02e-89\n",
       "Kurtosis:                       4.923   Cond. No.                     1.22e+05\n",
       "==============================================================================\n",
       "\n",
       "Warnings:\n",
       "[1] Standard Errors assume that the covariance matrix of the errors is correctly specified.\n",
       "[2] The condition number is large, 1.22e+05. This might indicate that there are\n",
       "strong multicollinearity or other numerical problems.\n",
       "\"\"\""
      ]
     },
     "execution_count": 76,
     "metadata": {},
     "output_type": "execute_result"
    }
   ],
   "source": [
    "# Define the model\n",
    "lm1 = smf.ols('views ~ cars + clothes + curse + religion + verified + contrib', data=df)\n",
    "\n",
    "# Fit the model\n",
    "fit1 = lm1.fit()\n",
    "\n",
    "# Print summary statistics of the model's performance\n",
    "fit1.summary()"
   ]
  },
  {
   "cell_type": "code",
   "execution_count": 114,
   "metadata": {},
   "outputs": [],
   "source": [
    "\"\"\"I realized that there were some songs where\n",
    "the driver failed to scrape the metadata.\n",
    "Here's the code I used to fix it:\n",
    "songs_to_fix = []\n",
    "for key in song_dict:\n",
    "    if not song_dict[key].metadata:\n",
    "        songs_to_fix.append(key)\n",
    "        \n",
    "start_driver(songs_to_fix[0])\n",
    "missing_info = scrape_info(songs_to_fix)\n",
    "for key in missing_info:\n",
    "    song_dict[key] = missing_info[key]\"\"\""
   ]
  },
  {
   "cell_type": "code",
   "execution_count": 132,
   "metadata": {},
   "outputs": [],
   "source": [
    "bible_links = [mark.format(i) for i in range(1,16)]\n",
    "\n",
    "mark = 'https://www.biblegateway.com/passage/?search=Mark+{}&version=NIV'\n",
    "\n",
    "full_text = ''\n",
    "\n",
    "for link in bible_links:\n",
    "\n",
    "    response = requests.get(link)\n",
    "\n",
    "    soup = BeautifulSoup(response.text)\n",
    "\n",
    "    NIV_tags = soup.find_all(class_='version-NIV')\n",
    "\n",
    "    text_list = [tag.text for tag in NIV_tags]\n",
    "\n",
    "    bible_text = re.sub('\\d+\\\\xa0','',text_list[0])\n",
    "    bible_text = re.sub('\\[.\\]','',bible_text)\n",
    "    bible_text = re.sub('\\\\xa0', '', bible_text)\n",
    "    footnote_regex = re.compile('Footnotes.+',re.DOTALL)\n",
    "    bible_text = re.sub(footnote_regex,'',bible_text)\n",
    "    \n",
    "    full_text += bible_text\n",
    "\n",
    "full_text = clean_lyrics(full_text)\n",
    "\n",
    "freq_dict = defaultdict(int)\n",
    "\n",
    "for word in full_text.split():\n",
    "    freq_dict[word] += 1\n",
    "\n",
    "freq_dict\n",
    "\n",
    "text_analysis = pd.Series(freq_dict)\n",
    "\n",
    "freq_words = text_analysis[text_analysis > 5]\n",
    "\n",
    "\n",
    "freq_words = freq_words.sort_values()\n",
    "\n",
    "freq_words.drop(['the', 'and','to','of', 'he', 'they', 'a', 'in', 'you', 'his', 'with', 'him', 'is', 'will', 'for', 'that', 'not', 'was', 'it', 'on', 'but', 'be', 'were', 'when', 'them', 'i', 'had', 'at', 'one', 'out', 'said'])"
   ]
  }
 ],
 "metadata": {
  "kernelspec": {
   "display_name": "Python 3",
   "language": "python",
   "name": "python3"
  },
  "language_info": {
   "codemirror_mode": {
    "name": "ipython",
    "version": 3
   },
   "file_extension": ".py",
   "mimetype": "text/x-python",
   "name": "python",
   "nbconvert_exporter": "python",
   "pygments_lexer": "ipython3",
   "version": "3.7.2"
  }
 },
 "nbformat": 4,
 "nbformat_minor": 2
}
